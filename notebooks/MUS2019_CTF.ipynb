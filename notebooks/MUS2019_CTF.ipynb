{
  "nbformat": 4,
  "nbformat_minor": 0,
  "metadata": {
    "colab": {
      "name": "MUS2019-CTF.ipynb",
      "provenance": [],
      "include_colab_link": true
    },
    "kernelspec": {
      "name": "python3",
      "display_name": "Python 3"
    }
  },
  "cells": [
    {
      "cell_type": "markdown",
      "metadata": {
        "id": "view-in-github",
        "colab_type": "text"
      },
      "source": [
        "<a href=\"https://colab.research.google.com/github/kiddinn/timesketch/blob/colab_updated/notebooks/MUS2019_CTF.ipynb\" target=\"_parent\"><img src=\"https://colab.research.google.com/assets/colab-badge.svg\" alt=\"Open In Colab\"/></a>"
      ]
    },
    {
      "cell_type": "markdown",
      "metadata": {
        "id": "2y1Dij2Z7C4n"
      },
      "source": [
        "# Magnet User Summit CTF 2019\n"
      ]
    },
    {
      "cell_type": "markdown",
      "metadata": {
        "id": "V3DWqc_275Jm"
      },
      "source": [
        "The folks at [Magnet Forensics](https://www.magnetforensics.com/) had a [conference](https://magnetusersummit.com/) recently, and as part of it they put together a digital forensics-themed Capture the Flag competition. I wasn't able to attend, but thankfully they [released the CTF online](https://www.hecfblog.com/2019/04/daily-blog-657-mus2019-dfir-ctf-open-to.html) a few days after the live competition ended. \n",
        "\n",
        "It looked like a lot of fun and I wanted to take a crack at it using the open source tools we use/build here at Google. \n"
      ]
    },
    {
      "cell_type": "markdown",
      "metadata": {
        "id": "1_pWpmTdnYJM"
      },
      "source": [
        "## Forensics Preprocessing"
      ]
    },
    {
      "cell_type": "markdown",
      "metadata": {
        "id": "2Hph_KETIvOT"
      },
      "source": [
        "I'm going to focus on how to find the answers to the CTF questions after all the processing has been done. I'll quickly summarize the processing steps I did to get to the state when I pick up my walkthrough.\n",
        "\n",
        "I started off by processing the provided E01 image with a basic log2timeline command; nothing special added:\n",
        "\n",
        "\n",
        "```\n",
        "log2timeline.py MUS2019-CTF.plaso MUS-CTF-19-DESKTOP-001.E01\n",
        "```\n",
        "\n",
        "Once that finished, I went to [Timesketch](https://github.com/google/timesketch), made a new sketch, and uploaded the MUS2019-CTF.plaso file I just made. The *.plaso* file is a database containing the results of my log2timeline run; Timesketch can read it and provide a nice, collaborative interface for reviewing and exploring that data.\n",
        "\n",
        "Most of what I'm going to show you is done in Colab by accessing the Timesketch API in Python. You can do most of the steps in the Timesketch web interface directly, but I wanted to demonstrate how you can use Python, Colab, Timesketch, and Plaso together to work a case. \n"
      ]
    },
    {
      "cell_type": "markdown",
      "metadata": {
        "id": "w-UPKnDLnbBF"
      },
      "source": [
        "## Timesketch & Colab Setup\n"
      ]
    },
    {
      "cell_type": "markdown",
      "metadata": {
        "id": "0dmFr3P_9Ao7"
      },
      "source": [
        "First, if you want to run this notebook and play along, click the 'Connect' button at the top right of the page. The [Timesketch GitHub](https://github.com/google/timesketch) has Colab ([Timesketch and Colab](https://colab.research.google.com/github/google/timesketch/blob/master/notebooks/colab-timesketch-demo.ipynb)) that walks through how to install, connect, and explore a Sketch using Colab. Please check it out if you want a more thorough explanation of the setup; I'm just going to show the commands you need to run to get it working: "
      ]
    },
    {
      "cell_type": "code",
      "metadata": {
        "id": "h35lMbAxIeYE",
        "outputId": "ab3ec578-e360-4ee0-9a32-c4cf57f4879b",
        "colab": {
          "base_uri": "https://localhost:8080/"
        }
      },
      "source": [
        "# Install the TimeSketch API client if you don't have it\n",
        "!pip install timesketch-api-client\n",
        "\n",
        "# Import some things we'll need\n",
        "from timesketch_api_client import config\n",
        "import pandas as pd\n",
        "pd.options.display.max_colwidth = 60"
      ],
      "execution_count": 2,
      "outputs": [
        {
          "output_type": "stream",
          "text": [
            "Requirement already satisfied: timesketch-api-client in /usr/local/lib/python3.6/dist-packages (20201027)\n",
            "Requirement already satisfied: requests in /usr/local/lib/python3.6/dist-packages (from timesketch-api-client) (2.23.0)\n",
            "Requirement already satisfied: click in /usr/local/lib/python3.6/dist-packages (from timesketch-api-client) (7.1.2)\n",
            "Requirement already satisfied: beautifulsoup4 in /usr/local/lib/python3.6/dist-packages (from timesketch-api-client) (4.6.3)\n",
            "Requirement already satisfied: altair in /usr/local/lib/python3.6/dist-packages (from timesketch-api-client) (4.1.0)\n",
            "Requirement already satisfied: cryptography in /usr/local/lib/python3.6/dist-packages (from timesketch-api-client) (3.2.1)\n",
            "Requirement already satisfied: google-auth-oauthlib in /usr/local/lib/python3.6/dist-packages (from timesketch-api-client) (0.4.1)\n",
            "Requirement already satisfied: google-auth in /usr/local/lib/python3.6/dist-packages (from timesketch-api-client) (1.17.2)\n",
            "Requirement already satisfied: pandas in /usr/local/lib/python3.6/dist-packages (from timesketch-api-client) (1.1.3)\n",
            "Requirement already satisfied: certifi>=2017.4.17 in /usr/local/lib/python3.6/dist-packages (from requests->timesketch-api-client) (2020.6.20)\n",
            "Requirement already satisfied: idna<3,>=2.5 in /usr/local/lib/python3.6/dist-packages (from requests->timesketch-api-client) (2.10)\n",
            "Requirement already satisfied: chardet<4,>=3.0.2 in /usr/local/lib/python3.6/dist-packages (from requests->timesketch-api-client) (3.0.4)\n",
            "Requirement already satisfied: urllib3!=1.25.0,!=1.25.1,<1.26,>=1.21.1 in /usr/local/lib/python3.6/dist-packages (from requests->timesketch-api-client) (1.24.3)\n",
            "Requirement already satisfied: entrypoints in /usr/local/lib/python3.6/dist-packages (from altair->timesketch-api-client) (0.3)\n",
            "Requirement already satisfied: jinja2 in /usr/local/lib/python3.6/dist-packages (from altair->timesketch-api-client) (2.11.2)\n",
            "Requirement already satisfied: toolz in /usr/local/lib/python3.6/dist-packages (from altair->timesketch-api-client) (0.11.1)\n",
            "Requirement already satisfied: numpy in /usr/local/lib/python3.6/dist-packages (from altair->timesketch-api-client) (1.18.5)\n",
            "Requirement already satisfied: jsonschema in /usr/local/lib/python3.6/dist-packages (from altair->timesketch-api-client) (2.6.0)\n",
            "Requirement already satisfied: six>=1.4.1 in /usr/local/lib/python3.6/dist-packages (from cryptography->timesketch-api-client) (1.15.0)\n",
            "Requirement already satisfied: cffi!=1.11.3,>=1.8 in /usr/local/lib/python3.6/dist-packages (from cryptography->timesketch-api-client) (1.14.3)\n",
            "Requirement already satisfied: requests-oauthlib>=0.7.0 in /usr/local/lib/python3.6/dist-packages (from google-auth-oauthlib->timesketch-api-client) (1.3.0)\n",
            "Requirement already satisfied: rsa<5,>=3.1.4; python_version >= \"3\" in /usr/local/lib/python3.6/dist-packages (from google-auth->timesketch-api-client) (4.6)\n",
            "Requirement already satisfied: setuptools>=40.3.0 in /usr/local/lib/python3.6/dist-packages (from google-auth->timesketch-api-client) (50.3.2)\n",
            "Requirement already satisfied: cachetools<5.0,>=2.0.0 in /usr/local/lib/python3.6/dist-packages (from google-auth->timesketch-api-client) (4.1.1)\n",
            "Requirement already satisfied: pyasn1-modules>=0.2.1 in /usr/local/lib/python3.6/dist-packages (from google-auth->timesketch-api-client) (0.2.8)\n",
            "Requirement already satisfied: python-dateutil>=2.7.3 in /usr/local/lib/python3.6/dist-packages (from pandas->timesketch-api-client) (2.8.1)\n",
            "Requirement already satisfied: pytz>=2017.2 in /usr/local/lib/python3.6/dist-packages (from pandas->timesketch-api-client) (2018.9)\n",
            "Requirement already satisfied: MarkupSafe>=0.23 in /usr/local/lib/python3.6/dist-packages (from jinja2->altair->timesketch-api-client) (1.1.1)\n",
            "Requirement already satisfied: pycparser in /usr/local/lib/python3.6/dist-packages (from cffi!=1.11.3,>=1.8->cryptography->timesketch-api-client) (2.20)\n",
            "Requirement already satisfied: oauthlib>=3.0.0 in /usr/local/lib/python3.6/dist-packages (from requests-oauthlib>=0.7.0->google-auth-oauthlib->timesketch-api-client) (3.1.0)\n",
            "Requirement already satisfied: pyasn1>=0.1.3 in /usr/local/lib/python3.6/dist-packages (from rsa<5,>=3.1.4; python_version >= \"3\"->google-auth->timesketch-api-client) (0.4.8)\n"
          ],
          "name": "stdout"
        }
      ]
    },
    {
      "cell_type": "markdown",
      "metadata": {
        "id": "ph1jGHR5JjZo"
      },
      "source": [
        "### Connect to Timesketch"
      ]
    },
    {
      "cell_type": "markdown",
      "metadata": {
        "id": "i5JCNPkL87Cq"
      },
      "source": [
        "By default, this will connect to the public demo Timesketch server, which [David Cowen](https://twitter.com/HECFBlog) has graciously allowed to host a copy of the Plaso timeline of the MUS2019-CTF. Thanks Dave!"
      ]
    },
    {
      "cell_type": "code",
      "metadata": {
        "id": "dqwwIBOpJfZi",
        "cellView": "form",
        "outputId": "f6bae526-4bd3-4b14-d793-bacbff74766e",
        "colab": {
          "base_uri": "https://localhost:8080/"
        }
      },
      "source": [
        "#@title Client Information \n",
        "# @markdown In order to connect to Timesketch you need to first get a Timesketch object, which will require you to answer\n",
        "# @markdown some questions the first time you execute this code. The answers are:\n",
        "# @markdown + **auth_mode**: timesketch (username/pwd combination)\n",
        "# @markdown + **host_uri**: https://demo.timesketch.org\n",
        "# @markdown + **username**: demo\n",
        "# @markdown + **password**: demo\n",
        "\n",
        "ts_client = config.get_client()"
      ],
      "execution_count": 3,
      "outputs": [
        {
          "output_type": "stream",
          "text": [
            "WARNING:timesketch_api.config_assistance:No timesketch section in the config\n"
          ],
          "name": "stderr"
        },
        {
          "output_type": "stream",
          "text": [
            "What is the value for [auth_mode]: timesketch\n",
            "What is the value for [username]: demo\n",
            "What is the value for [host_uri]: https://demo.timesketch.org\n",
            "Password for user demo: ··········\n"
          ],
          "name": "stdout"
        },
        {
          "output_type": "stream",
          "text": [
            "INFO:timesketch_api.crypto_client:File does not exist, creating it.\n",
            "INFO:timesketch_api.crypto_client:Credentials saved to: /root/.timesketch.token\n"
          ],
          "name": "stderr"
        }
      ]
    },
    {
      "cell_type": "markdown",
      "metadata": {
        "id": "OZ4CahZZPjht"
      },
      "source": [
        "Now that we've connected to the Timesketch server, we need to select the Sketch that has the CTF timeline. \n",
        "\n",
        "First we'll list the available sketches, then print their names:"
      ]
    },
    {
      "cell_type": "code",
      "metadata": {
        "id": "vsEZI45porba",
        "outputId": "aa7c3c7f-e6f8-4cbf-f105-6bee73397479",
        "colab": {
          "base_uri": "https://localhost:8080/"
        }
      },
      "source": [
        "sketches = ts_client.list_sketches()\n",
        "ctf = None\n",
        "for sketch in sketches:\n",
        "  print('[{0:d}] {1:s}'.format(sketch.id, sketch.name))\n",
        "  if sketch.name == 'MUS2019 CTF':\n",
        "    ctf = sketch"
      ],
      "execution_count": 7,
      "outputs": [
        {
          "output_type": "stream",
          "text": [
            "[11] aaaa\n",
            "[10] testcase #123\n",
            "[9] hello-world\n",
            "[7] Sigma Test\n",
            "[6] Szechuan Sauce - Challenge\n",
            "[2] Look at \"Shared With Me\" and the sketches there for some data\n",
            "[1] Greendale\n",
            "[5] testing\n",
            "[3] MUS2019 CTF\n"
          ],
          "name": "stdout"
        }
      ]
    },
    {
      "cell_type": "markdown",
      "metadata": {
        "id": "E6RX0jqzQrRq"
      },
      "source": [
        "Then we'll select the MUS2019-CTF sketch (shown as sketch 3 above; you can change the number below to select a different sketch):"
      ]
    },
    {
      "cell_type": "code",
      "metadata": {
        "id": "hvCl6L7ZQrsZ",
        "outputId": "e4f40202-9679-4073-e02c-dd868160b2fc",
        "colab": {
          "base_uri": "https://localhost:8080/"
        }
      },
      "source": [
        "print(ctf.name)\n",
        "print(ctf.description)"
      ],
      "execution_count": 8,
      "outputs": [
        {
          "output_type": "stream",
          "text": [
            "MUS2019 CTF\n",
            "This sketch contains test data from MUS2019 CTF (enter further details here)\n"
          ],
          "name": "stdout"
        }
      ]
    },
    {
      "cell_type": "markdown",
      "metadata": {
        "id": "4P9vvN2KWRjX"
      },
      "source": [
        "Lastly, I'll briefly explain a few paramters of the **explore** function, which we'll use heavily when answering questions.\n",
        "\n",
        "<sketch_name>.explore() is how we send queries to Timesketch and get results back. **query_string**, **return_fields**, and **as_pandas** are the main parameters I'll be using:\n",
        " - query_string: This is the same as the query you'd enter if you were using the Timesketch web interface.\n",
        " - return_fields: Here we specify what fields we want back from Timesketch. This is where we can get really specific using Colab and only get the things we're interested in (which varies depending on what data types we're expecting back).\n",
        " - as_pandas: This just a boolen value which tells Timesketch to return a [Pandas DataFrame](https://pandas.pydata.org/pandas-docs/stable/reference/api/pandas.DataFrame.html), rather than a dictionary. We'll have this set to True in all our queries, since DataFrames are awesome!\n",
        "\n",
        "Okay, enough setup. Let's get to answering questions!"
      ]
    },
    {
      "cell_type": "markdown",
      "metadata": {
        "id": "tzvfE55GLKhB"
      },
      "source": [
        "# Questions\n"
      ]
    },
    {
      "cell_type": "markdown",
      "metadata": {
        "id": "Pfy7e0iO9MJK"
      },
      "source": [
        "![Basic - Desktop Questions](https://dfir.blog/content/images/2019/04/MUS2019-CTF-Basic-Desktop.png)\n",
        "\n",
        "I grouped the questions from the 'Basic - Desktop' section into three categories: NTFS, TeamViewer, and Registry."
      ]
    },
    {
      "cell_type": "markdown",
      "metadata": {
        "id": "SBtoNqZcp_Oi"
      },
      "source": [
        "## NTFS Questions\n",
        "This first set of questions relate to aspects of NTFS: MFT entries, sequence numbers, USN entries, and VSNs."
      ]
    },
    {
      "cell_type": "markdown",
      "metadata": {
        "id": "t4G6-lVUqN_V"
      },
      "source": [
        "As a little refresher, the 64-bit **file reference address** (or number) is made up of the **MFT entry** (48 bits) and **sequence** (16 bits) numbers. We often see this represented as something like 1234-2, with 1234 being the MFT entry number and 2 being the sequence number. Plaso calls the MFT entry number the **inode**, since that's the more generic term that applies across file systems."
      ]
    },
    {
      "cell_type": "markdown",
      "metadata": {
        "id": "aVcSxh925V2T"
      },
      "source": [
        "### Q: What is the name of the file associated with MFT entry number 102698?"
      ]
    },
    {
      "cell_type": "markdown",
      "metadata": {
        "id": "m6apzEsfAGeo"
      },
      "source": [
        "Since Plaso parses out the MFT entry (or as it calls it, inode) into its own field, let's do a query for all records with that value:"
      ]
    },
    {
      "cell_type": "code",
      "metadata": {
        "id": "0n6k7v-ioy4_",
        "outputId": "0e6003fe-206a-4dab-ada3-726061fa9780",
        "colab": {
          "base_uri": "https://localhost:8080/",
          "height": 173
        }
      },
      "source": [
        "ts_results = ctf.explore(\n",
        "    'inode:102698', \n",
        "    return_fields='datetime,timestamp_desc,data_type,inode,filename', \n",
        "    as_pandas=True)\n",
        "ts_results[['datetime','timestamp_desc','data_type','inode','filename']]"
      ],
      "execution_count": 15,
      "outputs": [
        {
          "output_type": "execute_result",
          "data": {
            "text/html": [
              "<div>\n",
              "<style scoped>\n",
              "    .dataframe tbody tr th:only-of-type {\n",
              "        vertical-align: middle;\n",
              "    }\n",
              "\n",
              "    .dataframe tbody tr th {\n",
              "        vertical-align: top;\n",
              "    }\n",
              "\n",
              "    .dataframe thead th {\n",
              "        text-align: right;\n",
              "    }\n",
              "</style>\n",
              "<table border=\"1\" class=\"dataframe\">\n",
              "  <thead>\n",
              "    <tr style=\"text-align: right;\">\n",
              "      <th></th>\n",
              "      <th>datetime</th>\n",
              "      <th>timestamp_desc</th>\n",
              "      <th>data_type</th>\n",
              "      <th>inode</th>\n",
              "      <th>filename</th>\n",
              "    </tr>\n",
              "  </thead>\n",
              "  <tbody>\n",
              "    <tr>\n",
              "      <th>0</th>\n",
              "      <td>2019-02-25 20:39:59.821777+00:00</td>\n",
              "      <td>Creation Time</td>\n",
              "      <td>fs:stat</td>\n",
              "      <td>102698</td>\n",
              "      <td>\\Users\\Administrator\\Downloads\\TeamViewer_Setup.exe</td>\n",
              "    </tr>\n",
              "    <tr>\n",
              "      <th>1</th>\n",
              "      <td>2019-02-25 20:40:29.915533+00:00</td>\n",
              "      <td>Content Modification Time</td>\n",
              "      <td>fs:stat</td>\n",
              "      <td>102698</td>\n",
              "      <td>\\Users\\Administrator\\Downloads\\TeamViewer_Setup.exe</td>\n",
              "    </tr>\n",
              "    <tr>\n",
              "      <th>2</th>\n",
              "      <td>2019-02-25 20:40:45.238474+00:00</td>\n",
              "      <td>Metadata Modification Time</td>\n",
              "      <td>fs:stat</td>\n",
              "      <td>102698</td>\n",
              "      <td>\\Users\\Administrator\\Downloads\\TeamViewer_Setup.exe</td>\n",
              "    </tr>\n",
              "    <tr>\n",
              "      <th>3</th>\n",
              "      <td>2019-02-25 20:41:35.639840+00:00</td>\n",
              "      <td>Last Access Time</td>\n",
              "      <td>fs:stat</td>\n",
              "      <td>102698</td>\n",
              "      <td>\\Users\\Administrator\\Downloads\\TeamViewer_Setup.exe</td>\n",
              "    </tr>\n",
              "  </tbody>\n",
              "</table>\n",
              "</div>"
            ],
            "text/plain": [
              "                          datetime  ...                                             filename\n",
              "0 2019-02-25 20:39:59.821777+00:00  ...  \\Users\\Administrator\\Downloads\\TeamViewer_Setup.exe\n",
              "1 2019-02-25 20:40:29.915533+00:00  ...  \\Users\\Administrator\\Downloads\\TeamViewer_Setup.exe\n",
              "2 2019-02-25 20:40:45.238474+00:00  ...  \\Users\\Administrator\\Downloads\\TeamViewer_Setup.exe\n",
              "3 2019-02-25 20:41:35.639840+00:00  ...  \\Users\\Administrator\\Downloads\\TeamViewer_Setup.exe\n",
              "\n",
              "[4 rows x 5 columns]"
            ]
          },
          "metadata": {
            "tags": []
          },
          "execution_count": 15
        }
      ]
    },
    {
      "cell_type": "markdown",
      "metadata": {
        "id": "zuBoWImjAjs-"
      },
      "source": [
        "Multiple results, as is expected since Plaso creates multiple records for different types of timestamps, but they all point to the same filename: **/Users/Administrator/Downloads/TeamViewer_Setup.exe**"
      ]
    },
    {
      "cell_type": "code",
      "metadata": {
        "id": "JY3n9O60hdf8",
        "outputId": "e9d4810c-3569-4087-9687-d28dae0f341c",
        "colab": {
          "base_uri": "https://localhost:8080/"
        }
      },
      "source": [
        "ts_results.filename.unique()"
      ],
      "execution_count": 16,
      "outputs": [
        {
          "output_type": "execute_result",
          "data": {
            "text/plain": [
              "array(['\\\\Users\\\\Administrator\\\\Downloads\\\\TeamViewer_Setup.exe'],\n",
              "      dtype=object)"
            ]
          },
          "metadata": {
            "tags": []
          },
          "execution_count": 16
        }
      ]
    },
    {
      "cell_type": "markdown",
      "metadata": {
        "id": "RPH7R0tKtLXn"
      },
      "source": [
        "### Q: What is the file name that represented MFT entry 60725 with a sequence number of 10?"
      ]
    },
    {
      "cell_type": "markdown",
      "metadata": {
        "id": "lHvfLumPlC5J"
      },
      "source": [
        "The quick way to answer this is to just search for the MFT entry number (60725) and look for references to sequence number 10 in the message field:"
      ]
    },
    {
      "cell_type": "code",
      "metadata": {
        "id": "idzQZADYj8LF",
        "outputId": "3bc70eba-738e-47c0-a9fd-e4b205538bae",
        "colab": {
          "base_uri": "https://localhost:8080/",
          "height": 337
        }
      },
      "source": [
        "ts_results = ctf.explore(\n",
        "    '60725', \n",
        "    return_fields='datetime,timestamp_desc,data_type,filename,message', \n",
        "    as_pandas=True)\n",
        "ts_results[['datetime','timestamp_desc','data_type','filename','message']]"
      ],
      "execution_count": 17,
      "outputs": [
        {
          "output_type": "execute_result",
          "data": {
            "text/html": [
              "<div>\n",
              "<style scoped>\n",
              "    .dataframe tbody tr th:only-of-type {\n",
              "        vertical-align: middle;\n",
              "    }\n",
              "\n",
              "    .dataframe tbody tr th {\n",
              "        vertical-align: top;\n",
              "    }\n",
              "\n",
              "    .dataframe thead th {\n",
              "        text-align: right;\n",
              "    }\n",
              "</style>\n",
              "<table border=\"1\" class=\"dataframe\">\n",
              "  <thead>\n",
              "    <tr style=\"text-align: right;\">\n",
              "      <th></th>\n",
              "      <th>datetime</th>\n",
              "      <th>timestamp_desc</th>\n",
              "      <th>data_type</th>\n",
              "      <th>filename</th>\n",
              "      <th>message</th>\n",
              "    </tr>\n",
              "  </thead>\n",
              "  <tbody>\n",
              "    <tr>\n",
              "      <th>0</th>\n",
              "      <td>2019-02-26 23:59:41.039993+00:00</td>\n",
              "      <td>Content Modification Time</td>\n",
              "      <td>windows:evtx:record</td>\n",
              "      <td>NaN</td>\n",
              "      <td>[2006 / 0x07d6] Source Name: Microsoft-Windows-Install-A...</td>\n",
              "    </tr>\n",
              "    <tr>\n",
              "      <th>1</th>\n",
              "      <td>2019-02-26 23:59:41.039993+00:00</td>\n",
              "      <td>Creation Time</td>\n",
              "      <td>windows:evtx:record</td>\n",
              "      <td>NaN</td>\n",
              "      <td>[2006 / 0x07d6] Source Name: Microsoft-Windows-Install-A...</td>\n",
              "    </tr>\n",
              "    <tr>\n",
              "      <th>2</th>\n",
              "      <td>2019-03-13 19:23:17.126646+00:00</td>\n",
              "      <td>Creation Time</td>\n",
              "      <td>fs:stat</td>\n",
              "      <td>\\ProgramData\\Microsoft\\Diagnosis\\DownloadedSettings\\utc....</td>\n",
              "      <td>NTFS:\\ProgramData\\Microsoft\\Diagnosis\\DownloadedSettings...</td>\n",
              "    </tr>\n",
              "    <tr>\n",
              "      <th>3</th>\n",
              "      <td>2019-03-13 19:23:17.583458+00:00</td>\n",
              "      <td>Content Modification Time</td>\n",
              "      <td>fs:stat</td>\n",
              "      <td>\\ProgramData\\Microsoft\\Diagnosis\\DownloadedSettings\\utc....</td>\n",
              "      <td>NTFS:\\ProgramData\\Microsoft\\Diagnosis\\DownloadedSettings...</td>\n",
              "    </tr>\n",
              "    <tr>\n",
              "      <th>4</th>\n",
              "      <td>2019-03-13 19:23:17.583458+00:00</td>\n",
              "      <td>Last Access Time</td>\n",
              "      <td>fs:stat</td>\n",
              "      <td>\\ProgramData\\Microsoft\\Diagnosis\\DownloadedSettings\\utc....</td>\n",
              "      <td>NTFS:\\ProgramData\\Microsoft\\Diagnosis\\DownloadedSettings...</td>\n",
              "    </tr>\n",
              "    <tr>\n",
              "      <th>5</th>\n",
              "      <td>2019-03-13 19:23:17.583458+00:00</td>\n",
              "      <td>Metadata Modification Time</td>\n",
              "      <td>fs:stat</td>\n",
              "      <td>\\ProgramData\\Microsoft\\Diagnosis\\DownloadedSettings\\utc....</td>\n",
              "      <td>NTFS:\\ProgramData\\Microsoft\\Diagnosis\\DownloadedSettings...</td>\n",
              "    </tr>\n",
              "  </tbody>\n",
              "</table>\n",
              "</div>"
            ],
            "text/plain": [
              "                          datetime  ...                                                      message\n",
              "0 2019-02-26 23:59:41.039993+00:00  ...  [2006 / 0x07d6] Source Name: Microsoft-Windows-Install-A...\n",
              "1 2019-02-26 23:59:41.039993+00:00  ...  [2006 / 0x07d6] Source Name: Microsoft-Windows-Install-A...\n",
              "2 2019-03-13 19:23:17.126646+00:00  ...  NTFS:\\ProgramData\\Microsoft\\Diagnosis\\DownloadedSettings...\n",
              "3 2019-03-13 19:23:17.583458+00:00  ...  NTFS:\\ProgramData\\Microsoft\\Diagnosis\\DownloadedSettings...\n",
              "4 2019-03-13 19:23:17.583458+00:00  ...  NTFS:\\ProgramData\\Microsoft\\Diagnosis\\DownloadedSettings...\n",
              "5 2019-03-13 19:23:17.583458+00:00  ...  NTFS:\\ProgramData\\Microsoft\\Diagnosis\\DownloadedSettings...\n",
              "\n",
              "[6 rows x 5 columns]"
            ]
          },
          "metadata": {
            "tags": []
          },
          "execution_count": 17
        }
      ]
    },
    {
      "cell_type": "markdown",
      "metadata": {
        "id": "lEAo1lLcUeBb"
      },
      "source": [
        "That's a bunch of rows, so let's filter it down by searching for messages that contain '60725-10':"
      ]
    },
    {
      "cell_type": "code",
      "metadata": {
        "id": "iPCYySiEVB6P",
        "outputId": "c57616aa-964d-4157-edc0-e3d81b33aa4d",
        "colab": {
          "base_uri": "https://localhost:8080/",
          "height": 49
        }
      },
      "source": [
        "ts_results[ts_results.message.str.contains('60725-10')]"
      ],
      "execution_count": 19,
      "outputs": [
        {
          "output_type": "execute_result",
          "data": {
            "text/html": [
              "<div>\n",
              "<style scoped>\n",
              "    .dataframe tbody tr th:only-of-type {\n",
              "        vertical-align: middle;\n",
              "    }\n",
              "\n",
              "    .dataframe tbody tr th {\n",
              "        vertical-align: top;\n",
              "    }\n",
              "\n",
              "    .dataframe thead th {\n",
              "        text-align: right;\n",
              "    }\n",
              "</style>\n",
              "<table border=\"1\" class=\"dataframe\">\n",
              "  <thead>\n",
              "    <tr style=\"text-align: right;\">\n",
              "      <th></th>\n",
              "      <th>data_type</th>\n",
              "      <th>datetime</th>\n",
              "      <th>label</th>\n",
              "      <th>message</th>\n",
              "      <th>timestamp_desc</th>\n",
              "      <th>filename</th>\n",
              "    </tr>\n",
              "  </thead>\n",
              "  <tbody>\n",
              "  </tbody>\n",
              "</table>\n",
              "</div>"
            ],
            "text/plain": [
              "Empty DataFrame\n",
              "Columns: [data_type, datetime, label, message, timestamp_desc, filename]\n",
              "Index: []"
            ]
          },
          "metadata": {
            "tags": []
          },
          "execution_count": 19
        }
      ]
    },
    {
      "cell_type": "markdown",
      "metadata": {
        "id": "ShIpZoBRV-xi"
      },
      "source": [
        "That filename is really long and cut off; let's just select that field, then deduplicate using set():"
      ]
    },
    {
      "cell_type": "code",
      "metadata": {
        "id": "7xRO5-FFV_KN",
        "outputId": "b7323d94-3d4b-4604-c8c9-9096cda31b65",
        "colab": {
          "base_uri": "https://localhost:8080/"
        }
      },
      "source": [
        "set(ts_results[ts_results.message.str.contains('60725-10')].filename)"
      ],
      "execution_count": 12,
      "outputs": [
        {
          "output_type": "execute_result",
          "data": {
            "text/plain": [
              "set()"
            ]
          },
          "metadata": {
            "tags": []
          },
          "execution_count": 12
        }
      ]
    },
    {
      "cell_type": "markdown",
      "metadata": {
        "id": "VX8kLLl4ltAI"
      },
      "source": [
        "Another way to solve this is to query for the file reference number directly. That's not as easy as it sounds, since Plaso stores it in the hex form ([I'm working on fixing that](https://github.com/log2timeline/plaso/issues/2453)). We can work with that though! \n",
        "\n",
        "Let's do the same query as above, but add the file_reference field:"
      ]
    },
    {
      "cell_type": "code",
      "metadata": {
        "id": "qzemkUIAl-dX",
        "outputId": "b3333874-f4f4-4727-ebd9-ad475576adde",
        "colab": {
          "base_uri": "https://localhost:8080/",
          "height": 341
        }
      },
      "source": [
        "ts_results = ctf.explore(\n",
        "    '60725', \n",
        "    return_fields='datetime,timestamp_desc,data_type,file_reference,filename,message', \n",
        "    as_pandas=True)\n",
        "ts_results[['datetime','timestamp_desc','data_type','file_reference','filename','message']]"
      ],
      "execution_count": 13,
      "outputs": [
        {
          "output_type": "error",
          "ename": "KeyError",
          "evalue": "ignored",
          "traceback": [
            "\u001b[0;31m---------------------------------------------------------------------------\u001b[0m",
            "\u001b[0;31mKeyError\u001b[0m                                  Traceback (most recent call last)",
            "\u001b[0;32m<ipython-input-13-848da4e96c7f>\u001b[0m in \u001b[0;36m<module>\u001b[0;34m()\u001b[0m\n\u001b[1;32m      3\u001b[0m     \u001b[0mreturn_fields\u001b[0m\u001b[0;34m=\u001b[0m\u001b[0;34m'datetime,timestamp_desc,data_type,file_reference,filename,message'\u001b[0m\u001b[0;34m,\u001b[0m\u001b[0;34m\u001b[0m\u001b[0;34m\u001b[0m\u001b[0m\n\u001b[1;32m      4\u001b[0m     as_pandas=True)\n\u001b[0;32m----> 5\u001b[0;31m \u001b[0mts_results\u001b[0m\u001b[0;34m[\u001b[0m\u001b[0;34m[\u001b[0m\u001b[0;34m'datetime'\u001b[0m\u001b[0;34m,\u001b[0m\u001b[0;34m'timestamp_desc'\u001b[0m\u001b[0;34m,\u001b[0m\u001b[0;34m'data_type'\u001b[0m\u001b[0;34m,\u001b[0m\u001b[0;34m'file_reference'\u001b[0m\u001b[0;34m,\u001b[0m\u001b[0;34m'filename'\u001b[0m\u001b[0;34m,\u001b[0m\u001b[0;34m'message'\u001b[0m\u001b[0;34m]\u001b[0m\u001b[0;34m]\u001b[0m\u001b[0;34m\u001b[0m\u001b[0;34m\u001b[0m\u001b[0m\n\u001b[0m",
            "\u001b[0;32m/usr/local/lib/python3.6/dist-packages/pandas/core/frame.py\u001b[0m in \u001b[0;36m__getitem__\u001b[0;34m(self, key)\u001b[0m\n\u001b[1;32m   2906\u001b[0m             \u001b[0;32mif\u001b[0m \u001b[0mis_iterator\u001b[0m\u001b[0;34m(\u001b[0m\u001b[0mkey\u001b[0m\u001b[0;34m)\u001b[0m\u001b[0;34m:\u001b[0m\u001b[0;34m\u001b[0m\u001b[0;34m\u001b[0m\u001b[0m\n\u001b[1;32m   2907\u001b[0m                 \u001b[0mkey\u001b[0m \u001b[0;34m=\u001b[0m \u001b[0mlist\u001b[0m\u001b[0;34m(\u001b[0m\u001b[0mkey\u001b[0m\u001b[0;34m)\u001b[0m\u001b[0;34m\u001b[0m\u001b[0;34m\u001b[0m\u001b[0m\n\u001b[0;32m-> 2908\u001b[0;31m             \u001b[0mindexer\u001b[0m \u001b[0;34m=\u001b[0m \u001b[0mself\u001b[0m\u001b[0;34m.\u001b[0m\u001b[0mloc\u001b[0m\u001b[0;34m.\u001b[0m\u001b[0m_get_listlike_indexer\u001b[0m\u001b[0;34m(\u001b[0m\u001b[0mkey\u001b[0m\u001b[0;34m,\u001b[0m \u001b[0maxis\u001b[0m\u001b[0;34m=\u001b[0m\u001b[0;36m1\u001b[0m\u001b[0;34m,\u001b[0m \u001b[0mraise_missing\u001b[0m\u001b[0;34m=\u001b[0m\u001b[0;32mTrue\u001b[0m\u001b[0;34m)\u001b[0m\u001b[0;34m[\u001b[0m\u001b[0;36m1\u001b[0m\u001b[0;34m]\u001b[0m\u001b[0;34m\u001b[0m\u001b[0;34m\u001b[0m\u001b[0m\n\u001b[0m\u001b[1;32m   2909\u001b[0m \u001b[0;34m\u001b[0m\u001b[0m\n\u001b[1;32m   2910\u001b[0m         \u001b[0;31m# take() does not accept boolean indexers\u001b[0m\u001b[0;34m\u001b[0m\u001b[0;34m\u001b[0m\u001b[0;34m\u001b[0m\u001b[0m\n",
            "\u001b[0;32m/usr/local/lib/python3.6/dist-packages/pandas/core/indexing.py\u001b[0m in \u001b[0;36m_get_listlike_indexer\u001b[0;34m(self, key, axis, raise_missing)\u001b[0m\n\u001b[1;32m   1252\u001b[0m             \u001b[0mkeyarr\u001b[0m\u001b[0;34m,\u001b[0m \u001b[0mindexer\u001b[0m\u001b[0;34m,\u001b[0m \u001b[0mnew_indexer\u001b[0m \u001b[0;34m=\u001b[0m \u001b[0max\u001b[0m\u001b[0;34m.\u001b[0m\u001b[0m_reindex_non_unique\u001b[0m\u001b[0;34m(\u001b[0m\u001b[0mkeyarr\u001b[0m\u001b[0;34m)\u001b[0m\u001b[0;34m\u001b[0m\u001b[0;34m\u001b[0m\u001b[0m\n\u001b[1;32m   1253\u001b[0m \u001b[0;34m\u001b[0m\u001b[0m\n\u001b[0;32m-> 1254\u001b[0;31m         \u001b[0mself\u001b[0m\u001b[0;34m.\u001b[0m\u001b[0m_validate_read_indexer\u001b[0m\u001b[0;34m(\u001b[0m\u001b[0mkeyarr\u001b[0m\u001b[0;34m,\u001b[0m \u001b[0mindexer\u001b[0m\u001b[0;34m,\u001b[0m \u001b[0maxis\u001b[0m\u001b[0;34m,\u001b[0m \u001b[0mraise_missing\u001b[0m\u001b[0;34m=\u001b[0m\u001b[0mraise_missing\u001b[0m\u001b[0;34m)\u001b[0m\u001b[0;34m\u001b[0m\u001b[0;34m\u001b[0m\u001b[0m\n\u001b[0m\u001b[1;32m   1255\u001b[0m         \u001b[0;32mreturn\u001b[0m \u001b[0mkeyarr\u001b[0m\u001b[0;34m,\u001b[0m \u001b[0mindexer\u001b[0m\u001b[0;34m\u001b[0m\u001b[0;34m\u001b[0m\u001b[0m\n\u001b[1;32m   1256\u001b[0m \u001b[0;34m\u001b[0m\u001b[0m\n",
            "\u001b[0;32m/usr/local/lib/python3.6/dist-packages/pandas/core/indexing.py\u001b[0m in \u001b[0;36m_validate_read_indexer\u001b[0;34m(self, key, indexer, axis, raise_missing)\u001b[0m\n\u001b[1;32m   1302\u001b[0m             \u001b[0;32mif\u001b[0m \u001b[0mraise_missing\u001b[0m\u001b[0;34m:\u001b[0m\u001b[0;34m\u001b[0m\u001b[0;34m\u001b[0m\u001b[0m\n\u001b[1;32m   1303\u001b[0m                 \u001b[0mnot_found\u001b[0m \u001b[0;34m=\u001b[0m \u001b[0mlist\u001b[0m\u001b[0;34m(\u001b[0m\u001b[0mset\u001b[0m\u001b[0;34m(\u001b[0m\u001b[0mkey\u001b[0m\u001b[0;34m)\u001b[0m \u001b[0;34m-\u001b[0m \u001b[0mset\u001b[0m\u001b[0;34m(\u001b[0m\u001b[0max\u001b[0m\u001b[0;34m)\u001b[0m\u001b[0;34m)\u001b[0m\u001b[0;34m\u001b[0m\u001b[0;34m\u001b[0m\u001b[0m\n\u001b[0;32m-> 1304\u001b[0;31m                 \u001b[0;32mraise\u001b[0m \u001b[0mKeyError\u001b[0m\u001b[0;34m(\u001b[0m\u001b[0;34mf\"{not_found} not in index\"\u001b[0m\u001b[0;34m)\u001b[0m\u001b[0;34m\u001b[0m\u001b[0;34m\u001b[0m\u001b[0m\n\u001b[0m\u001b[1;32m   1305\u001b[0m \u001b[0;34m\u001b[0m\u001b[0m\n\u001b[1;32m   1306\u001b[0m             \u001b[0;31m# we skip the warning on Categorical\u001b[0m\u001b[0;34m\u001b[0m\u001b[0;34m\u001b[0m\u001b[0;34m\u001b[0m\u001b[0m\n",
            "\u001b[0;31mKeyError\u001b[0m: \"['file_reference'] not in index\""
          ]
        }
      ]
    },
    {
      "cell_type": "markdown",
      "metadata": {
        "id": "ujdlJk_a9Hxo"
      },
      "source": [
        "The *file_reference* value is not the format we want, since it's hard to tell what the sequence number is. We can convert it to a more useful form though: "
      ]
    },
    {
      "cell_type": "code",
      "metadata": {
        "id": "qM4QlMgqmQRk"
      },
      "source": [
        "# Drop any rows with NaN, since they aren't what we're looking for and will \n",
        "# break the below function.\n",
        "ts_results = ts_results.dropna()\n",
        "pd.options.display.max_colwidth = 110\n",
        "\n",
        "# Replace the file_reference hex value with the human-readable MFT-Seq version. \n",
        "# This is basically what Plaso does to display the result in the 'message' \n",
        "# string we searched for. \n",
        "ts_results['file_reference'] = ts_results['file_reference'].map(\n",
        "    lambda x: '{0:d}-{1:d}'.format(int(x) & 0xffffffffffff, int(x) >> 48))\n",
        "ts_results[['datetime','timestamp_desc','data_type','file_reference','filename']]"
      ],
      "execution_count": null,
      "outputs": []
    },
    {
      "cell_type": "markdown",
      "metadata": {
        "id": "5zq9iqSJ9bA6"
      },
      "source": [
        "There. Now we have the file_reference number in an easier-to-read format, and the history of all filenames that MFT entry 60725 has had! It's easy to look for the entry with a sequence number of 10 and get our answer."
      ]
    },
    {
      "cell_type": "markdown",
      "metadata": {
        "id": "hoj0JdKQrDru"
      },
      "source": [
        "### Q: Which file name represents the USN record where the USN number is 546416480?"
      ]
    },
    {
      "cell_type": "markdown",
      "metadata": {
        "id": "tDnlbF-8rfIF"
      },
      "source": [
        "Like other questions, the quick, generic way to answer is to just search for the unique detail; in this case, search in Timesketch for '546416480'. I'll show the more targeted way below, but it's pretty simple:"
      ]
    },
    {
      "cell_type": "code",
      "metadata": {
        "id": "lPObip1NrOtn",
        "outputId": "d2af8183-6d3b-499b-bb34-8e1e8e7cdf75",
        "colab": {
          "base_uri": "https://localhost:8080/",
          "height": 358
        }
      },
      "source": [
        "ts_results = ctf.explore(\n",
        "    'update_sequence_number:546416480', \n",
        "    return_fields='datetime,timestamp_desc,data_type,update_sequence_number,filename', \n",
        "    as_pandas=True)\n",
        "ts_results[['datetime','timestamp_desc','data_type','update_sequence_number','filename']]"
      ],
      "execution_count": 22,
      "outputs": [
        {
          "output_type": "error",
          "ename": "KeyError",
          "evalue": "ignored",
          "traceback": [
            "\u001b[0;31m---------------------------------------------------------------------------\u001b[0m",
            "\u001b[0;31mKeyError\u001b[0m                                  Traceback (most recent call last)",
            "\u001b[0;32m<ipython-input-22-5f161a4e4cf3>\u001b[0m in \u001b[0;36m<module>\u001b[0;34m()\u001b[0m\n\u001b[1;32m      3\u001b[0m     \u001b[0mreturn_fields\u001b[0m\u001b[0;34m=\u001b[0m\u001b[0;34m'datetime,timestamp_desc,data_type,update_sequence_number,filename'\u001b[0m\u001b[0;34m,\u001b[0m\u001b[0;34m\u001b[0m\u001b[0;34m\u001b[0m\u001b[0m\n\u001b[1;32m      4\u001b[0m     as_pandas=True)\n\u001b[0;32m----> 5\u001b[0;31m \u001b[0mts_results\u001b[0m\u001b[0;34m[\u001b[0m\u001b[0;34m[\u001b[0m\u001b[0;34m'datetime'\u001b[0m\u001b[0;34m,\u001b[0m\u001b[0;34m'timestamp_desc'\u001b[0m\u001b[0;34m,\u001b[0m\u001b[0;34m'data_type'\u001b[0m\u001b[0;34m,\u001b[0m\u001b[0;34m'update_sequence_number'\u001b[0m\u001b[0;34m,\u001b[0m\u001b[0;34m'filename'\u001b[0m\u001b[0;34m]\u001b[0m\u001b[0;34m]\u001b[0m\u001b[0;34m\u001b[0m\u001b[0;34m\u001b[0m\u001b[0m\n\u001b[0m",
            "\u001b[0;32m/usr/local/lib/python3.6/dist-packages/pandas/core/frame.py\u001b[0m in \u001b[0;36m__getitem__\u001b[0;34m(self, key)\u001b[0m\n\u001b[1;32m   2906\u001b[0m             \u001b[0;32mif\u001b[0m \u001b[0mis_iterator\u001b[0m\u001b[0;34m(\u001b[0m\u001b[0mkey\u001b[0m\u001b[0;34m)\u001b[0m\u001b[0;34m:\u001b[0m\u001b[0;34m\u001b[0m\u001b[0;34m\u001b[0m\u001b[0m\n\u001b[1;32m   2907\u001b[0m                 \u001b[0mkey\u001b[0m \u001b[0;34m=\u001b[0m \u001b[0mlist\u001b[0m\u001b[0;34m(\u001b[0m\u001b[0mkey\u001b[0m\u001b[0;34m)\u001b[0m\u001b[0;34m\u001b[0m\u001b[0;34m\u001b[0m\u001b[0m\n\u001b[0;32m-> 2908\u001b[0;31m             \u001b[0mindexer\u001b[0m \u001b[0;34m=\u001b[0m \u001b[0mself\u001b[0m\u001b[0;34m.\u001b[0m\u001b[0mloc\u001b[0m\u001b[0;34m.\u001b[0m\u001b[0m_get_listlike_indexer\u001b[0m\u001b[0;34m(\u001b[0m\u001b[0mkey\u001b[0m\u001b[0;34m,\u001b[0m \u001b[0maxis\u001b[0m\u001b[0;34m=\u001b[0m\u001b[0;36m1\u001b[0m\u001b[0;34m,\u001b[0m \u001b[0mraise_missing\u001b[0m\u001b[0;34m=\u001b[0m\u001b[0;32mTrue\u001b[0m\u001b[0;34m)\u001b[0m\u001b[0;34m[\u001b[0m\u001b[0;36m1\u001b[0m\u001b[0;34m]\u001b[0m\u001b[0;34m\u001b[0m\u001b[0;34m\u001b[0m\u001b[0m\n\u001b[0m\u001b[1;32m   2909\u001b[0m \u001b[0;34m\u001b[0m\u001b[0m\n\u001b[1;32m   2910\u001b[0m         \u001b[0;31m# take() does not accept boolean indexers\u001b[0m\u001b[0;34m\u001b[0m\u001b[0;34m\u001b[0m\u001b[0;34m\u001b[0m\u001b[0m\n",
            "\u001b[0;32m/usr/local/lib/python3.6/dist-packages/pandas/core/indexing.py\u001b[0m in \u001b[0;36m_get_listlike_indexer\u001b[0;34m(self, key, axis, raise_missing)\u001b[0m\n\u001b[1;32m   1252\u001b[0m             \u001b[0mkeyarr\u001b[0m\u001b[0;34m,\u001b[0m \u001b[0mindexer\u001b[0m\u001b[0;34m,\u001b[0m \u001b[0mnew_indexer\u001b[0m \u001b[0;34m=\u001b[0m \u001b[0max\u001b[0m\u001b[0;34m.\u001b[0m\u001b[0m_reindex_non_unique\u001b[0m\u001b[0;34m(\u001b[0m\u001b[0mkeyarr\u001b[0m\u001b[0;34m)\u001b[0m\u001b[0;34m\u001b[0m\u001b[0;34m\u001b[0m\u001b[0m\n\u001b[1;32m   1253\u001b[0m \u001b[0;34m\u001b[0m\u001b[0m\n\u001b[0;32m-> 1254\u001b[0;31m         \u001b[0mself\u001b[0m\u001b[0;34m.\u001b[0m\u001b[0m_validate_read_indexer\u001b[0m\u001b[0;34m(\u001b[0m\u001b[0mkeyarr\u001b[0m\u001b[0;34m,\u001b[0m \u001b[0mindexer\u001b[0m\u001b[0;34m,\u001b[0m \u001b[0maxis\u001b[0m\u001b[0;34m,\u001b[0m \u001b[0mraise_missing\u001b[0m\u001b[0;34m=\u001b[0m\u001b[0mraise_missing\u001b[0m\u001b[0;34m)\u001b[0m\u001b[0;34m\u001b[0m\u001b[0;34m\u001b[0m\u001b[0m\n\u001b[0m\u001b[1;32m   1255\u001b[0m         \u001b[0;32mreturn\u001b[0m \u001b[0mkeyarr\u001b[0m\u001b[0;34m,\u001b[0m \u001b[0mindexer\u001b[0m\u001b[0;34m\u001b[0m\u001b[0;34m\u001b[0m\u001b[0m\n\u001b[1;32m   1256\u001b[0m \u001b[0;34m\u001b[0m\u001b[0m\n",
            "\u001b[0;32m/usr/local/lib/python3.6/dist-packages/pandas/core/indexing.py\u001b[0m in \u001b[0;36m_validate_read_indexer\u001b[0;34m(self, key, indexer, axis, raise_missing)\u001b[0m\n\u001b[1;32m   1296\u001b[0m             \u001b[0;32mif\u001b[0m \u001b[0mmissing\u001b[0m \u001b[0;34m==\u001b[0m \u001b[0mlen\u001b[0m\u001b[0;34m(\u001b[0m\u001b[0mindexer\u001b[0m\u001b[0;34m)\u001b[0m\u001b[0;34m:\u001b[0m\u001b[0;34m\u001b[0m\u001b[0;34m\u001b[0m\u001b[0m\n\u001b[1;32m   1297\u001b[0m                 \u001b[0maxis_name\u001b[0m \u001b[0;34m=\u001b[0m \u001b[0mself\u001b[0m\u001b[0;34m.\u001b[0m\u001b[0mobj\u001b[0m\u001b[0;34m.\u001b[0m\u001b[0m_get_axis_name\u001b[0m\u001b[0;34m(\u001b[0m\u001b[0maxis\u001b[0m\u001b[0;34m)\u001b[0m\u001b[0;34m\u001b[0m\u001b[0;34m\u001b[0m\u001b[0m\n\u001b[0;32m-> 1298\u001b[0;31m                 \u001b[0;32mraise\u001b[0m \u001b[0mKeyError\u001b[0m\u001b[0;34m(\u001b[0m\u001b[0;34mf\"None of [{key}] are in the [{axis_name}]\"\u001b[0m\u001b[0;34m)\u001b[0m\u001b[0;34m\u001b[0m\u001b[0;34m\u001b[0m\u001b[0m\n\u001b[0m\u001b[1;32m   1299\u001b[0m \u001b[0;34m\u001b[0m\u001b[0m\n\u001b[1;32m   1300\u001b[0m             \u001b[0;31m# We (temporarily) allow for some missing keys with .loc, except in\u001b[0m\u001b[0;34m\u001b[0m\u001b[0;34m\u001b[0m\u001b[0;34m\u001b[0m\u001b[0m\n",
            "\u001b[0;31mKeyError\u001b[0m: \"None of [Index(['datetime', 'timestamp_desc', 'data_type', 'update_sequence_number',\\n       'filename'],\\n      dtype='object')] are in the [columns]\""
          ]
        }
      ]
    },
    {
      "cell_type": "markdown",
      "metadata": {
        "id": "TfRrngTvysQi"
      },
      "source": [
        "### Q: What is the MFT sequence number associated with the file \"\\Users\\Administrator\\Desktop\\FTK_Imager_Lite_3.1.1\\FTK Imager.exe\"?"
      ]
    },
    {
      "cell_type": "markdown",
      "metadata": {
        "id": "Xq0HG3CV2s1s"
      },
      "source": [
        "We'll handle this question like other ones involving the file reference address, except in this case we first need to find the MFT entry number (or inode) from the file name. Searching for the whole file path in Timesketch is problematic (slashes among other things), so let's search for the file name and then verify the path is right:"
      ]
    },
    {
      "cell_type": "code",
      "metadata": {
        "id": "lvxp9ltq0plT",
        "outputId": "4e22f074-42de-4a43-dbdf-4e2a7b1a5ba8",
        "colab": {
          "base_uri": "https://localhost:8080/",
          "height": 452
        }
      },
      "source": [
        "ts_results = ctf.explore(\n",
        "    'FTK Imager.exe', \n",
        "    return_fields='datetime,timestamp_desc,data_type,inode,message,filename', \n",
        "    as_pandas=True)\n",
        "ts_results[['datetime','timestamp_desc','data_type','inode','message']]"
      ],
      "execution_count": 25,
      "outputs": [
        {
          "output_type": "execute_result",
          "data": {
            "text/html": [
              "<div>\n",
              "<style scoped>\n",
              "    .dataframe tbody tr th:only-of-type {\n",
              "        vertical-align: middle;\n",
              "    }\n",
              "\n",
              "    .dataframe tbody tr th {\n",
              "        vertical-align: top;\n",
              "    }\n",
              "\n",
              "    .dataframe thead th {\n",
              "        text-align: right;\n",
              "    }\n",
              "</style>\n",
              "<table border=\"1\" class=\"dataframe\">\n",
              "  <thead>\n",
              "    <tr style=\"text-align: right;\">\n",
              "      <th></th>\n",
              "      <th>datetime</th>\n",
              "      <th>timestamp_desc</th>\n",
              "      <th>data_type</th>\n",
              "      <th>inode</th>\n",
              "      <th>message</th>\n",
              "    </tr>\n",
              "  </thead>\n",
              "  <tbody>\n",
              "    <tr>\n",
              "      <th>0</th>\n",
              "      <td>2012-08-23 20:54:54+00:00</td>\n",
              "      <td>Creation Time</td>\n",
              "      <td>pe:compilation:compilation_time</td>\n",
              "      <td>NaN</td>\n",
              "      <td>PE Type: Executable (EXE) Import hash: 5d1d1d8cdc2296dfc...</td>\n",
              "    </tr>\n",
              "    <tr>\n",
              "      <th>1</th>\n",
              "      <td>2016-04-13 22:33:42+00:00</td>\n",
              "      <td>Content Modification Time</td>\n",
              "      <td>fs:stat</td>\n",
              "      <td>99916.0</td>\n",
              "      <td>NTFS:\\Users\\Administrator\\Desktop\\FTK_Imager_Lite_3.1.1\\...</td>\n",
              "    </tr>\n",
              "    <tr>\n",
              "      <th>2</th>\n",
              "      <td>2018-07-28 08:21:06.579596+00:00</td>\n",
              "      <td>Creation Time</td>\n",
              "      <td>windows:volume:creation</td>\n",
              "      <td>NaN</td>\n",
              "      <td>\\VOLUME{01d4264bee777579-ccee841b} Serial number: 0xCCEE...</td>\n",
              "    </tr>\n",
              "    <tr>\n",
              "      <th>3</th>\n",
              "      <td>2019-03-20 13:42:25.006134+00:00</td>\n",
              "      <td>Metadata Modification Time</td>\n",
              "      <td>fs:stat</td>\n",
              "      <td>99916.0</td>\n",
              "      <td>NTFS:\\Users\\Administrator\\Desktop\\FTK_Imager_Lite_3.1.1\\...</td>\n",
              "    </tr>\n",
              "    <tr>\n",
              "      <th>4</th>\n",
              "      <td>2019-03-20 21:26:48.956899+00:00</td>\n",
              "      <td>Creation Time</td>\n",
              "      <td>fs:stat</td>\n",
              "      <td>99916.0</td>\n",
              "      <td>NTFS:\\Users\\Administrator\\Desktop\\FTK_Imager_Lite_3.1.1\\...</td>\n",
              "    </tr>\n",
              "    <tr>\n",
              "      <th>5</th>\n",
              "      <td>2019-03-20 21:26:49.127618+00:00</td>\n",
              "      <td>Last Access Time</td>\n",
              "      <td>fs:stat</td>\n",
              "      <td>99916.0</td>\n",
              "      <td>NTFS:\\Users\\Administrator\\Desktop\\FTK_Imager_Lite_3.1.1\\...</td>\n",
              "    </tr>\n",
              "    <tr>\n",
              "      <th>6</th>\n",
              "      <td>2019-03-20 21:27:01.697998+00:00</td>\n",
              "      <td>Last Time Executed</td>\n",
              "      <td>windows:prefetch:execution</td>\n",
              "      <td>NaN</td>\n",
              "      <td>Prefetch [FTK IMAGER.EXE] was executed - run count 1 pat...</td>\n",
              "    </tr>\n",
              "    <tr>\n",
              "      <th>7</th>\n",
              "      <td>2019-03-20 21:27:11.833271+00:00</td>\n",
              "      <td>Content Modification Time</td>\n",
              "      <td>fs:stat</td>\n",
              "      <td>977.0</td>\n",
              "      <td>NTFS:\\Windows\\Prefetch\\FTK IMAGER.EXE-C7E9245B.pf Type: ...</td>\n",
              "    </tr>\n",
              "    <tr>\n",
              "      <th>8</th>\n",
              "      <td>2019-03-20 21:27:11.833271+00:00</td>\n",
              "      <td>Creation Time</td>\n",
              "      <td>fs:stat</td>\n",
              "      <td>977.0</td>\n",
              "      <td>NTFS:\\Windows\\Prefetch\\FTK IMAGER.EXE-C7E9245B.pf Type: ...</td>\n",
              "    </tr>\n",
              "    <tr>\n",
              "      <th>9</th>\n",
              "      <td>2019-03-20 21:27:11.833271+00:00</td>\n",
              "      <td>Last Access Time</td>\n",
              "      <td>fs:stat</td>\n",
              "      <td>977.0</td>\n",
              "      <td>NTFS:\\Windows\\Prefetch\\FTK IMAGER.EXE-C7E9245B.pf Type: ...</td>\n",
              "    </tr>\n",
              "    <tr>\n",
              "      <th>10</th>\n",
              "      <td>2019-03-20 21:27:11.833271+00:00</td>\n",
              "      <td>Metadata Modification Time</td>\n",
              "      <td>fs:stat</td>\n",
              "      <td>977.0</td>\n",
              "      <td>NTFS:\\Windows\\Prefetch\\FTK IMAGER.EXE-C7E9245B.pf Type: ...</td>\n",
              "    </tr>\n",
              "    <tr>\n",
              "      <th>11</th>\n",
              "      <td>2019-03-20 21:28:46.883228+00:00</td>\n",
              "      <td>Creation Time</td>\n",
              "      <td>windows:evtx:record</td>\n",
              "      <td>NaN</td>\n",
              "      <td>[4798 / 0x12be] Source Name: Microsoft-Windows-Security-...</td>\n",
              "    </tr>\n",
              "    <tr>\n",
              "      <th>12</th>\n",
              "      <td>2019-03-20 21:28:46.883229+00:00</td>\n",
              "      <td>Content Modification Time</td>\n",
              "      <td>windows:evtx:record</td>\n",
              "      <td>NaN</td>\n",
              "      <td>[4798 / 0x12be] Source Name: Microsoft-Windows-Security-...</td>\n",
              "    </tr>\n",
              "  </tbody>\n",
              "</table>\n",
              "</div>"
            ],
            "text/plain": [
              "                           datetime  ...                                                      message\n",
              "0         2012-08-23 20:54:54+00:00  ...  PE Type: Executable (EXE) Import hash: 5d1d1d8cdc2296dfc...\n",
              "1         2016-04-13 22:33:42+00:00  ...  NTFS:\\Users\\Administrator\\Desktop\\FTK_Imager_Lite_3.1.1\\...\n",
              "2  2018-07-28 08:21:06.579596+00:00  ...  \\VOLUME{01d4264bee777579-ccee841b} Serial number: 0xCCEE...\n",
              "3  2019-03-20 13:42:25.006134+00:00  ...  NTFS:\\Users\\Administrator\\Desktop\\FTK_Imager_Lite_3.1.1\\...\n",
              "4  2019-03-20 21:26:48.956899+00:00  ...  NTFS:\\Users\\Administrator\\Desktop\\FTK_Imager_Lite_3.1.1\\...\n",
              "5  2019-03-20 21:26:49.127618+00:00  ...  NTFS:\\Users\\Administrator\\Desktop\\FTK_Imager_Lite_3.1.1\\...\n",
              "6  2019-03-20 21:27:01.697998+00:00  ...  Prefetch [FTK IMAGER.EXE] was executed - run count 1 pat...\n",
              "7  2019-03-20 21:27:11.833271+00:00  ...  NTFS:\\Windows\\Prefetch\\FTK IMAGER.EXE-C7E9245B.pf Type: ...\n",
              "8  2019-03-20 21:27:11.833271+00:00  ...  NTFS:\\Windows\\Prefetch\\FTK IMAGER.EXE-C7E9245B.pf Type: ...\n",
              "9  2019-03-20 21:27:11.833271+00:00  ...  NTFS:\\Windows\\Prefetch\\FTK IMAGER.EXE-C7E9245B.pf Type: ...\n",
              "10 2019-03-20 21:27:11.833271+00:00  ...  NTFS:\\Windows\\Prefetch\\FTK IMAGER.EXE-C7E9245B.pf Type: ...\n",
              "11 2019-03-20 21:28:46.883228+00:00  ...  [4798 / 0x12be] Source Name: Microsoft-Windows-Security-...\n",
              "12 2019-03-20 21:28:46.883229+00:00  ...  [4798 / 0x12be] Source Name: Microsoft-Windows-Security-...\n",
              "\n",
              "[13 rows x 5 columns]"
            ]
          },
          "metadata": {
            "tags": []
          },
          "execution_count": 25
        }
      ]
    },
    {
      "cell_type": "markdown",
      "metadata": {
        "id": "MZ14rd0f3rCC"
      },
      "source": [
        "In the second row of the results, we can find the correct path we're looking for in the message and see that the corresponding inode is 99916. We could do another search, similar to how we answered other questions... or we could just look down a few rows for a USN entry that shows: \"FTK Imager.exe File reference: 99916-**4**\".  There's the answer!"
      ]
    },
    {
      "cell_type": "code",
      "metadata": {
        "id": "s3GAl6TTjTS9",
        "outputId": "2106839c-4b7c-4e2d-d1e4-bdde82b6b630",
        "colab": {
          "base_uri": "https://localhost:8080/",
          "height": 80
        }
      },
      "source": [
        "ts_results[\n",
        "    ~ts_results.filename.isna() & (\n",
        "        ts_results.filename.str.contains(r'Users\\\\Administrator\\\\Desktop\\\\FTK_Imager_Lite_3.1.1\\\\FTK Imager.exe'))][['filename', 'inode']].drop_duplicates()"
      ],
      "execution_count": 30,
      "outputs": [
        {
          "output_type": "execute_result",
          "data": {
            "text/html": [
              "<div>\n",
              "<style scoped>\n",
              "    .dataframe tbody tr th:only-of-type {\n",
              "        vertical-align: middle;\n",
              "    }\n",
              "\n",
              "    .dataframe tbody tr th {\n",
              "        vertical-align: top;\n",
              "    }\n",
              "\n",
              "    .dataframe thead th {\n",
              "        text-align: right;\n",
              "    }\n",
              "</style>\n",
              "<table border=\"1\" class=\"dataframe\">\n",
              "  <thead>\n",
              "    <tr style=\"text-align: right;\">\n",
              "      <th></th>\n",
              "      <th>filename</th>\n",
              "      <th>inode</th>\n",
              "    </tr>\n",
              "  </thead>\n",
              "  <tbody>\n",
              "    <tr>\n",
              "      <th>1</th>\n",
              "      <td>\\Users\\Administrator\\Desktop\\FTK_Imager_Lite_3.1.1\\FTK I...</td>\n",
              "      <td>99916.0</td>\n",
              "    </tr>\n",
              "  </tbody>\n",
              "</table>\n",
              "</div>"
            ],
            "text/plain": [
              "                                                      filename    inode\n",
              "1  \\Users\\Administrator\\Desktop\\FTK_Imager_Lite_3.1.1\\FTK I...  99916.0"
            ]
          },
          "metadata": {
            "tags": []
          },
          "execution_count": 30
        }
      ]
    },
    {
      "cell_type": "markdown",
      "metadata": {
        "id": "VjF1NkzwsROK"
      },
      "source": [
        "### Q: What is the Volume Serial Number of the Desktop's OS volume?"
      ]
    },
    {
      "cell_type": "markdown",
      "metadata": {
        "id": "3d-el0ezsoQi"
      },
      "source": [
        "I know the VSN can be found in multiple places, but the first one I thought of was as part of a Prefetch file, so let's do it that way. \n",
        "\n",
        "I'll search for all 'volume creation' Prefetch records, since I don't really care about which particular one, beyond that it's from the OS drive. "
      ]
    },
    {
      "cell_type": "code",
      "metadata": {
        "id": "1gt8_VMxsQ77",
        "outputId": "5dd1081e-3da4-486e-a092-9a6c6d34e39d",
        "colab": {
          "base_uri": "https://localhost:8080/",
          "height": 589
        }
      },
      "source": [
        "ts_results = ctf.explore(\n",
        "    'data_type:\"windows:volume:creation\"', \n",
        "    return_fields='datetime,timestamp_desc,data_type,device_path,hostname,serial_number,message', \n",
        "    as_pandas=True)\n",
        "pd.options.display.max_colwidth = 70\n",
        "ts_results[['datetime','timestamp_desc','data_type','device_path','hostname','serial_number','message']]"
      ],
      "execution_count": 31,
      "outputs": [
        {
          "output_type": "execute_result",
          "data": {
            "text/html": [
              "<div>\n",
              "<style scoped>\n",
              "    .dataframe tbody tr th:only-of-type {\n",
              "        vertical-align: middle;\n",
              "    }\n",
              "\n",
              "    .dataframe tbody tr th {\n",
              "        vertical-align: top;\n",
              "    }\n",
              "\n",
              "    .dataframe thead th {\n",
              "        text-align: right;\n",
              "    }\n",
              "</style>\n",
              "<table border=\"1\" class=\"dataframe\">\n",
              "  <thead>\n",
              "    <tr style=\"text-align: right;\">\n",
              "      <th></th>\n",
              "      <th>datetime</th>\n",
              "      <th>timestamp_desc</th>\n",
              "      <th>data_type</th>\n",
              "      <th>device_path</th>\n",
              "      <th>hostname</th>\n",
              "      <th>serial_number</th>\n",
              "      <th>message</th>\n",
              "    </tr>\n",
              "  </thead>\n",
              "  <tbody>\n",
              "    <tr>\n",
              "      <th>0</th>\n",
              "      <td>2018-07-28 08:21:06.579596+00:00</td>\n",
              "      <td>Creation Time</td>\n",
              "      <td>windows:volume:creation</td>\n",
              "      <td>\\VOLUME{01d4264bee777579-ccee841b}</td>\n",
              "      <td>DESKTOP-0QT8017</td>\n",
              "      <td>3438183451</td>\n",
              "      <td>\\VOLUME{01d4264bee777579-ccee841b} Serial number: 0xCCEE841B Origi...</td>\n",
              "    </tr>\n",
              "    <tr>\n",
              "      <th>1</th>\n",
              "      <td>2018-07-28 08:21:06.579596+00:00</td>\n",
              "      <td>Creation Time</td>\n",
              "      <td>windows:volume:creation</td>\n",
              "      <td>\\VOLUME{01d4264bee777579-ccee841b}</td>\n",
              "      <td>DESKTOP-0QT8017</td>\n",
              "      <td>3438183451</td>\n",
              "      <td>\\VOLUME{01d4264bee777579-ccee841b} Serial number: 0xCCEE841B Origi...</td>\n",
              "    </tr>\n",
              "    <tr>\n",
              "      <th>2</th>\n",
              "      <td>2018-07-28 08:21:06.579596+00:00</td>\n",
              "      <td>Creation Time</td>\n",
              "      <td>windows:volume:creation</td>\n",
              "      <td>\\VOLUME{01d4264bee777579-ccee841b}</td>\n",
              "      <td>DESKTOP-0QT8017</td>\n",
              "      <td>3438183451</td>\n",
              "      <td>\\VOLUME{01d4264bee777579-ccee841b} Serial number: 0xCCEE841B Origi...</td>\n",
              "    </tr>\n",
              "    <tr>\n",
              "      <th>3</th>\n",
              "      <td>2018-07-28 08:21:06.579596+00:00</td>\n",
              "      <td>Creation Time</td>\n",
              "      <td>windows:volume:creation</td>\n",
              "      <td>\\VOLUME{01d4264bee777579-ccee841b}</td>\n",
              "      <td>DESKTOP-0QT8017</td>\n",
              "      <td>3438183451</td>\n",
              "      <td>\\VOLUME{01d4264bee777579-ccee841b} Serial number: 0xCCEE841B Origi...</td>\n",
              "    </tr>\n",
              "    <tr>\n",
              "      <th>4</th>\n",
              "      <td>2018-07-28 08:21:06.579596+00:00</td>\n",
              "      <td>Creation Time</td>\n",
              "      <td>windows:volume:creation</td>\n",
              "      <td>\\VOLUME{01d4264bee777579-ccee841b}</td>\n",
              "      <td>DESKTOP-0QT8017</td>\n",
              "      <td>3438183451</td>\n",
              "      <td>\\VOLUME{01d4264bee777579-ccee841b} Serial number: 0xCCEE841B Origi...</td>\n",
              "    </tr>\n",
              "    <tr>\n",
              "      <th>...</th>\n",
              "      <td>...</td>\n",
              "      <td>...</td>\n",
              "      <td>...</td>\n",
              "      <td>...</td>\n",
              "      <td>...</td>\n",
              "      <td>...</td>\n",
              "      <td>...</td>\n",
              "    </tr>\n",
              "    <tr>\n",
              "      <th>207</th>\n",
              "      <td>2018-07-28 08:21:06.579596+00:00</td>\n",
              "      <td>Creation Time</td>\n",
              "      <td>windows:volume:creation</td>\n",
              "      <td>\\VOLUME{01d4264bee777579-ccee841b}</td>\n",
              "      <td>DESKTOP-0QT8017</td>\n",
              "      <td>3438183451</td>\n",
              "      <td>\\VOLUME{01d4264bee777579-ccee841b} Serial number: 0xCCEE841B Origi...</td>\n",
              "    </tr>\n",
              "    <tr>\n",
              "      <th>208</th>\n",
              "      <td>2018-07-28 08:21:06.579596+00:00</td>\n",
              "      <td>Creation Time</td>\n",
              "      <td>windows:volume:creation</td>\n",
              "      <td>\\VOLUME{01d4264bee777579-ccee841b}</td>\n",
              "      <td>DESKTOP-0QT8017</td>\n",
              "      <td>3438183451</td>\n",
              "      <td>\\VOLUME{01d4264bee777579-ccee841b} Serial number: 0xCCEE841B Origi...</td>\n",
              "    </tr>\n",
              "    <tr>\n",
              "      <th>209</th>\n",
              "      <td>2018-07-28 08:21:06.579596+00:00</td>\n",
              "      <td>Creation Time</td>\n",
              "      <td>windows:volume:creation</td>\n",
              "      <td>\\VOLUME{01d4264bee777579-ccee841b}</td>\n",
              "      <td>DESKTOP-0QT8017</td>\n",
              "      <td>3438183451</td>\n",
              "      <td>\\VOLUME{01d4264bee777579-ccee841b} Serial number: 0xCCEE841B Origi...</td>\n",
              "    </tr>\n",
              "    <tr>\n",
              "      <th>210</th>\n",
              "      <td>2018-07-28 08:21:06.579596+00:00</td>\n",
              "      <td>Creation Time</td>\n",
              "      <td>windows:volume:creation</td>\n",
              "      <td>\\VOLUME{01d4264bee777579-ccee841b}</td>\n",
              "      <td>DESKTOP-0QT8017</td>\n",
              "      <td>3438183451</td>\n",
              "      <td>\\VOLUME{01d4264bee777579-ccee841b} Serial number: 0xCCEE841B Origi...</td>\n",
              "    </tr>\n",
              "    <tr>\n",
              "      <th>211</th>\n",
              "      <td>2018-07-28 08:21:06.579596+00:00</td>\n",
              "      <td>Creation Time</td>\n",
              "      <td>windows:volume:creation</td>\n",
              "      <td>\\VOLUME{01d4264bee777579-ccee841b}</td>\n",
              "      <td>DESKTOP-0QT8017</td>\n",
              "      <td>3438183451</td>\n",
              "      <td>\\VOLUME{01d4264bee777579-ccee841b} Serial number: 0xCCEE841B Origi...</td>\n",
              "    </tr>\n",
              "  </tbody>\n",
              "</table>\n",
              "<p>212 rows × 7 columns</p>\n",
              "</div>"
            ],
            "text/plain": [
              "                            datetime  ...                                                                message\n",
              "0   2018-07-28 08:21:06.579596+00:00  ...  \\VOLUME{01d4264bee777579-ccee841b} Serial number: 0xCCEE841B Origi...\n",
              "1   2018-07-28 08:21:06.579596+00:00  ...  \\VOLUME{01d4264bee777579-ccee841b} Serial number: 0xCCEE841B Origi...\n",
              "2   2018-07-28 08:21:06.579596+00:00  ...  \\VOLUME{01d4264bee777579-ccee841b} Serial number: 0xCCEE841B Origi...\n",
              "3   2018-07-28 08:21:06.579596+00:00  ...  \\VOLUME{01d4264bee777579-ccee841b} Serial number: 0xCCEE841B Origi...\n",
              "4   2018-07-28 08:21:06.579596+00:00  ...  \\VOLUME{01d4264bee777579-ccee841b} Serial number: 0xCCEE841B Origi...\n",
              "..                               ...  ...                                                                    ...\n",
              "207 2018-07-28 08:21:06.579596+00:00  ...  \\VOLUME{01d4264bee777579-ccee841b} Serial number: 0xCCEE841B Origi...\n",
              "208 2018-07-28 08:21:06.579596+00:00  ...  \\VOLUME{01d4264bee777579-ccee841b} Serial number: 0xCCEE841B Origi...\n",
              "209 2018-07-28 08:21:06.579596+00:00  ...  \\VOLUME{01d4264bee777579-ccee841b} Serial number: 0xCCEE841B Origi...\n",
              "210 2018-07-28 08:21:06.579596+00:00  ...  \\VOLUME{01d4264bee777579-ccee841b} Serial number: 0xCCEE841B Origi...\n",
              "211 2018-07-28 08:21:06.579596+00:00  ...  \\VOLUME{01d4264bee777579-ccee841b} Serial number: 0xCCEE841B Origi...\n",
              "\n",
              "[212 rows x 7 columns]"
            ]
          },
          "metadata": {
            "tags": []
          },
          "execution_count": 31
        }
      ]
    },
    {
      "cell_type": "markdown",
      "metadata": {
        "id": "KUtZWLKmuWet"
      },
      "source": [
        "You can see the VSN in a readable format at the end of the device_path or in the message string. I'm only seeing one value here, so we don't need to determine which drive was the OS one. If we did, I'd look for some system processes that need to run from the OS drive to get the right VSN. \n",
        "\n",
        "That's good enough for the question, but let's also convert the serial_number field from an integar to the hex format the answer wants, just to be sure:"
      ]
    },
    {
      "cell_type": "code",
      "metadata": {
        "id": "NmTdhbK7kLjB",
        "outputId": "2e7bdc81-2bb8-497a-9b1c-5c2f947dd935",
        "colab": {
          "base_uri": "https://localhost:8080/"
        }
      },
      "source": [
        "for serial_nr in ts_results.serial_number.unique():\n",
        "  print('{0:08X}'.format(serial_nr))"
      ],
      "execution_count": 34,
      "outputs": [
        {
          "output_type": "stream",
          "text": [
            "CCEE841B\n"
          ],
          "name": "stdout"
        }
      ]
    },
    {
      "cell_type": "markdown",
      "metadata": {
        "id": "4Ig0sZEC8fYa"
      },
      "source": [
        "## TeamViewer Questions\n",
        "The next group of questions involved [TeamViewer](https://www.teamviewer.com/en-us/), a common remote desktop program."
      ]
    },
    {
      "cell_type": "markdown",
      "metadata": {
        "id": "qsH4fUlqIUho"
      },
      "source": [
        "### Q: Which user installed Team Viewer?"
      ]
    },
    {
      "cell_type": "markdown",
      "metadata": {
        "id": "Hl_qGSxrLzN6"
      },
      "source": [
        "We can start searching very broadly, then focus in on anything that stands out. Let's just search everything we have for \"TeamViewer\":"
      ]
    },
    {
      "cell_type": "code",
      "metadata": {
        "id": "Hs2NyOf0IUS2",
        "outputId": "10f27351-0be9-48bf-e6b7-872240f559bd",
        "colab": {
          "base_uri": "https://localhost:8080/",
          "height": 419
        }
      },
      "source": [
        "ts_results = ctf.explore(\n",
        "    'TeamViewer', \n",
        "    return_fields='datetime,timestamp_desc,timestamp,data_type,message', \n",
        "    as_pandas=True)\n",
        "ts_results[['datetime','timestamp_desc','data_type','message']]"
      ],
      "execution_count": 40,
      "outputs": [
        {
          "output_type": "execute_result",
          "data": {
            "text/html": [
              "<div>\n",
              "<style scoped>\n",
              "    .dataframe tbody tr th:only-of-type {\n",
              "        vertical-align: middle;\n",
              "    }\n",
              "\n",
              "    .dataframe tbody tr th {\n",
              "        vertical-align: top;\n",
              "    }\n",
              "\n",
              "    .dataframe thead th {\n",
              "        text-align: right;\n",
              "    }\n",
              "</style>\n",
              "<table border=\"1\" class=\"dataframe\">\n",
              "  <thead>\n",
              "    <tr style=\"text-align: right;\">\n",
              "      <th></th>\n",
              "      <th>datetime</th>\n",
              "      <th>timestamp_desc</th>\n",
              "      <th>data_type</th>\n",
              "      <th>message</th>\n",
              "    </tr>\n",
              "  </thead>\n",
              "  <tbody>\n",
              "    <tr>\n",
              "      <th>0</th>\n",
              "      <td>1970-01-01 00:00:00+00:00</td>\n",
              "      <td>Last Time Executed</td>\n",
              "      <td>windows:registry:userassist</td>\n",
              "      <td>[HKEY_CURRENT_USER\\Software\\Microsoft\\Windows\\CurrentVersion\\Explo...</td>\n",
              "    </tr>\n",
              "    <tr>\n",
              "      <th>1</th>\n",
              "      <td>2007-12-13 09:22:09+00:00</td>\n",
              "      <td>Creation Time</td>\n",
              "      <td>pe:compilation:compilation_time</td>\n",
              "      <td>PE Type: Driver (SYS) Import hash: fcbe966aa9c0053fe3d2d7f07dbdd41d</td>\n",
              "    </tr>\n",
              "    <tr>\n",
              "      <th>2</th>\n",
              "      <td>2016-04-03 20:18:56+00:00</td>\n",
              "      <td>Creation Time</td>\n",
              "      <td>pe:compilation:compilation_time</td>\n",
              "      <td>PE Type: Executable (EXE) Import hash: 4ea4df5d94204fc550be1874e1b...</td>\n",
              "    </tr>\n",
              "    <tr>\n",
              "      <th>3</th>\n",
              "      <td>2016-04-03 20:19:02+00:00</td>\n",
              "      <td>Creation Time</td>\n",
              "      <td>pe:compilation:compilation_time</td>\n",
              "      <td>PE Type: Executable (EXE) Import hash: e2a592076b17ef8bfb48b7e0396...</td>\n",
              "    </tr>\n",
              "    <tr>\n",
              "      <th>4</th>\n",
              "      <td>2017-05-12 08:54:01+00:00</td>\n",
              "      <td>Creation Time</td>\n",
              "      <td>pe:compilation:compilation_time</td>\n",
              "      <td>PE Type: Driver (SYS) Import hash: bd2fee8a544a1c6656edb847a80a08c5</td>\n",
              "    </tr>\n",
              "    <tr>\n",
              "      <th>...</th>\n",
              "      <td>...</td>\n",
              "      <td>...</td>\n",
              "      <td>...</td>\n",
              "      <td>...</td>\n",
              "    </tr>\n",
              "    <tr>\n",
              "      <th>674</th>\n",
              "      <td>2019-03-20 21:15:27.923684+00:00</td>\n",
              "      <td>Previous Last Time Executed</td>\n",
              "      <td>windows:prefetch:execution</td>\n",
              "      <td>Prefetch [DLLHOST.EXE] was executed - run count 5 path hints: \\WIN...</td>\n",
              "    </tr>\n",
              "    <tr>\n",
              "      <th>675</th>\n",
              "      <td>2019-03-20 21:15:35.804750+00:00</td>\n",
              "      <td>Last Time Executed</td>\n",
              "      <td>windows:prefetch:execution</td>\n",
              "      <td>Prefetch [DLLHOST.EXE] was executed - run count 5 path hints: \\WIN...</td>\n",
              "    </tr>\n",
              "    <tr>\n",
              "      <th>676</th>\n",
              "      <td>2019-03-20 21:15:59.479903+00:00</td>\n",
              "      <td>Last Time Executed</td>\n",
              "      <td>windows:prefetch:execution</td>\n",
              "      <td>Prefetch [TASKHOSTW.EXE] was executed - run count 937 path hints: ...</td>\n",
              "    </tr>\n",
              "    <tr>\n",
              "      <th>677</th>\n",
              "      <td>2019-03-20 21:16:00.296180+00:00</td>\n",
              "      <td>Last Time Executed</td>\n",
              "      <td>windows:prefetch:execution</td>\n",
              "      <td>Prefetch [DLLHOST.EXE] was executed - run count 25 path hints: \\WI...</td>\n",
              "    </tr>\n",
              "    <tr>\n",
              "      <th>678</th>\n",
              "      <td>2019-03-20 21:26:27.713088+00:00</td>\n",
              "      <td>Last Time Executed</td>\n",
              "      <td>windows:prefetch:execution</td>\n",
              "      <td>Prefetch [RUNDLL32.EXE] was executed - run count 3 path hints: \\WI...</td>\n",
              "    </tr>\n",
              "  </tbody>\n",
              "</table>\n",
              "<p>679 rows × 4 columns</p>\n",
              "</div>"
            ],
            "text/plain": [
              "                            datetime  ...                                                                message\n",
              "0          1970-01-01 00:00:00+00:00  ...  [HKEY_CURRENT_USER\\Software\\Microsoft\\Windows\\CurrentVersion\\Explo...\n",
              "1          2007-12-13 09:22:09+00:00  ...    PE Type: Driver (SYS) Import hash: fcbe966aa9c0053fe3d2d7f07dbdd41d\n",
              "2          2016-04-03 20:18:56+00:00  ...  PE Type: Executable (EXE) Import hash: 4ea4df5d94204fc550be1874e1b...\n",
              "3          2016-04-03 20:19:02+00:00  ...  PE Type: Executable (EXE) Import hash: e2a592076b17ef8bfb48b7e0396...\n",
              "4          2017-05-12 08:54:01+00:00  ...    PE Type: Driver (SYS) Import hash: bd2fee8a544a1c6656edb847a80a08c5\n",
              "..                               ...  ...                                                                    ...\n",
              "674 2019-03-20 21:15:27.923684+00:00  ...  Prefetch [DLLHOST.EXE] was executed - run count 5 path hints: \\WIN...\n",
              "675 2019-03-20 21:15:35.804750+00:00  ...  Prefetch [DLLHOST.EXE] was executed - run count 5 path hints: \\WIN...\n",
              "676 2019-03-20 21:15:59.479903+00:00  ...  Prefetch [TASKHOSTW.EXE] was executed - run count 937 path hints: ...\n",
              "677 2019-03-20 21:16:00.296180+00:00  ...  Prefetch [DLLHOST.EXE] was executed - run count 25 path hints: \\WI...\n",
              "678 2019-03-20 21:26:27.713088+00:00  ...  Prefetch [RUNDLL32.EXE] was executed - run count 3 path hints: \\WI...\n",
              "\n",
              "[679 rows x 4 columns]"
            ]
          },
          "metadata": {
            "tags": []
          },
          "execution_count": 40
        }
      ]
    },
    {
      "cell_type": "markdown",
      "metadata": {
        "id": "ACBv7solSKa9"
      },
      "source": [
        "That returned a lot of results (600+). We could page through them all, but why not see if there are any interesting clusters first? That sounds like a job for a visualization!\n",
        "\n",
        "You can do this multiple ways; I'll do it in Python in a second, but the explanation is a bit complicated. The easier way is to do the search in TImesketch, then go to Charts > Histogram:\n",
        "\n",
        "![alt text](https://dfir.blog/content/images/2019/04/timesketch-histogram.png)"
      ]
    },
    {
      "cell_type": "markdown",
      "metadata": {
        "id": "7zRjoel2wRdA"
      },
      "source": [
        "And here's how you'd do something similar in Python:"
      ]
    },
    {
      "cell_type": "code",
      "metadata": {
        "id": "fxJN_YxSScJu",
        "outputId": "1d68683c-0896-44f9-8b97-f72b319ae563",
        "colab": {
          "base_uri": "https://localhost:8080/",
          "height": 308
        }
      },
      "source": [
        "ts_results = ts_results.set_index('datetime')\n",
        "ts_results['2018':].message.resample('D').count().plot()"
      ],
      "execution_count": 41,
      "outputs": [
        {
          "output_type": "execute_result",
          "data": {
            "text/plain": [
              "<matplotlib.axes._subplots.AxesSubplot at 0x7fdf5d040c18>"
            ]
          },
          "metadata": {
            "tags": []
          },
          "execution_count": 41
        },
        {
          "output_type": "display_data",
          "data": {
            "image/png": "[encoded data removed]",
            "text/plain": [
              "<Figure size 432x288 with 1 Axes>"
            ]
          },
          "metadata": {
            "tags": [],
            "needs_background": "light"
          }
        }
      ]
    },
    {
      "cell_type": "markdown",
      "metadata": {
        "id": "okGUVLBvk4LN"
      },
      "source": [
        "Or to use grouping/aggregation in pandas"
      ]
    },
    {
      "cell_type": "code",
      "metadata": {
        "id": "agA685Kpk624"
      },
      "source": [
        "ts_results.reset_index(inplace=True)\n",
        "ts_results['day'] = ts_results.datetime.dt.strftime('%Y%m%d')\n",
        "group = ts_results[['day', 'timestamp']].groupby('day', as_index=False)\n",
        "\n",
        "group_df = group.count().rename(columns={'timestamp': 'count'})\n"
      ],
      "execution_count": 46,
      "outputs": []
    },
    {
      "cell_type": "code",
      "metadata": {
        "id": "iiM8mz0rleHD",
        "outputId": "e650452a-42da-4fab-f12e-3eff53aa0144",
        "colab": {
          "base_uri": "https://localhost:8080/",
          "height": 359
        }
      },
      "source": [
        "group_df.sort_values('count', ascending=False)[:10]"
      ],
      "execution_count": 50,
      "outputs": [
        {
          "output_type": "execute_result",
          "data": {
            "text/html": [
              "<div>\n",
              "<style scoped>\n",
              "    .dataframe tbody tr th:only-of-type {\n",
              "        vertical-align: middle;\n",
              "    }\n",
              "\n",
              "    .dataframe tbody tr th {\n",
              "        vertical-align: top;\n",
              "    }\n",
              "\n",
              "    .dataframe thead th {\n",
              "        text-align: right;\n",
              "    }\n",
              "</style>\n",
              "<table border=\"1\" class=\"dataframe\">\n",
              "  <thead>\n",
              "    <tr style=\"text-align: right;\">\n",
              "      <th></th>\n",
              "      <th>day</th>\n",
              "      <th>count</th>\n",
              "    </tr>\n",
              "  </thead>\n",
              "  <tbody>\n",
              "    <tr>\n",
              "      <th>12</th>\n",
              "      <td>20190303</td>\n",
              "      <td>184</td>\n",
              "    </tr>\n",
              "    <tr>\n",
              "      <th>9</th>\n",
              "      <td>20190225</td>\n",
              "      <td>151</td>\n",
              "    </tr>\n",
              "    <tr>\n",
              "      <th>10</th>\n",
              "      <td>20190226</td>\n",
              "      <td>109</td>\n",
              "    </tr>\n",
              "    <tr>\n",
              "      <th>24</th>\n",
              "      <td>20190318</td>\n",
              "      <td>74</td>\n",
              "    </tr>\n",
              "    <tr>\n",
              "      <th>25</th>\n",
              "      <td>20190320</td>\n",
              "      <td>68</td>\n",
              "    </tr>\n",
              "    <tr>\n",
              "      <th>20</th>\n",
              "      <td>20190314</td>\n",
              "      <td>17</td>\n",
              "    </tr>\n",
              "    <tr>\n",
              "      <th>6</th>\n",
              "      <td>20181017</td>\n",
              "      <td>14</td>\n",
              "    </tr>\n",
              "    <tr>\n",
              "      <th>21</th>\n",
              "      <td>20190315</td>\n",
              "      <td>10</td>\n",
              "    </tr>\n",
              "    <tr>\n",
              "      <th>8</th>\n",
              "      <td>20190116</td>\n",
              "      <td>10</td>\n",
              "    </tr>\n",
              "    <tr>\n",
              "      <th>19</th>\n",
              "      <td>20190313</td>\n",
              "      <td>8</td>\n",
              "    </tr>\n",
              "  </tbody>\n",
              "</table>\n",
              "</div>"
            ],
            "text/plain": [
              "         day  count\n",
              "12  20190303    184\n",
              "9   20190225    151\n",
              "10  20190226    109\n",
              "24  20190318     74\n",
              "25  20190320     68\n",
              "20  20190314     17\n",
              "6   20181017     14\n",
              "21  20190315     10\n",
              "8   20190116     10\n",
              "19  20190313      8"
            ]
          },
          "metadata": {
            "tags": []
          },
          "execution_count": 50
        }
      ]
    },
    {
      "cell_type": "markdown",
      "metadata": {
        "id": "Khe0KmZbyWl0"
      },
      "source": [
        "Okay, so from the graphs it looks like we have a good cluster at the end of February; let's look closer. I'll slice the results to only show after 2019-02-20:"
      ]
    },
    {
      "cell_type": "code",
      "metadata": {
        "id": "y-hGtMtYyrt6"
      },
      "source": [
        "query_filter = {\n",
        "    'time_start': '2019-02-25',\n",
        "    'time_end': '2019-03-04'\n",
        "}\n",
        "ts_results = ctf.explore(\n",
        "    'TeamViewer', \n",
        "    return_fields='*', query_filter=query_filter, as_pandas=True)\n",
        "#ts_results = ts_results.set_index('datetime')\n",
        "#ts_results['2019-02-20':][['timestamp_desc','data_type','filename','message']]"
      ],
      "execution_count": 52,
      "outputs": []
    },
    {
      "cell_type": "code",
      "metadata": {
        "id": "rIQfr9vvmWqc",
        "outputId": "47f5b9d1-2ad7-4c14-83a7-8a1ea143882b",
        "colab": {
          "base_uri": "https://localhost:8080/"
        }
      },
      "source": [
        "ts_results.data_type.value_counts()"
      ],
      "execution_count": 53,
      "outputs": [
        {
          "output_type": "execute_result",
          "data": {
            "text/plain": [
              "fs:stat                                       264\n",
              "pe:compilation:compilation_time                46\n",
              "windows:evtx:record                            36\n",
              "windows:shell_item:file_entry                  31\n",
              "windows:registry:key_value                     28\n",
              "windows:prefetch:execution                     12\n",
              "windows:lnk:link                               12\n",
              "chrome:cache:entry                              7\n",
              "windows:registry:appcompatcache                 7\n",
              "chrome:history:page_visited                     3\n",
              "windows:distributed_link_tracking:creation      2\n",
              "windows:registry:service                        1\n",
              "Name: data_type, dtype: int64"
            ]
          },
          "metadata": {
            "tags": []
          },
          "execution_count": 53
        }
      ]
    },
    {
      "cell_type": "code",
      "metadata": {
        "id": "2meDiywWmZxD",
        "outputId": "2952251e-f997-42cb-8d92-aa14249015ca",
        "colab": {
          "base_uri": "https://localhost:8080/"
        }
      },
      "source": [
        "ts_results.search_string.value_counts()"
      ],
      "execution_count": 54,
      "outputs": [
        {
          "output_type": "execute_result",
          "data": {
            "text/plain": [
              "teamviewer    1\n",
              "Name: search_string, dtype: int64"
            ]
          },
          "metadata": {
            "tags": []
          },
          "execution_count": 54
        }
      ]
    },
    {
      "cell_type": "code",
      "metadata": {
        "id": "QBDi0z_gmcmK",
        "outputId": "08e0f7b5-7e36-4c67-b076-d803ef302067",
        "colab": {
          "base_uri": "https://localhost:8080/",
          "height": 563
        }
      },
      "source": [
        "ts_results[ts_results.data_type.str.contains('chrome')][['datetime', 'url', 'domain', 'search_string', 'message', 'title']]"
      ],
      "execution_count": 58,
      "outputs": [
        {
          "output_type": "execute_result",
          "data": {
            "text/html": [
              "<div>\n",
              "<style scoped>\n",
              "    .dataframe tbody tr th:only-of-type {\n",
              "        vertical-align: middle;\n",
              "    }\n",
              "\n",
              "    .dataframe tbody tr th {\n",
              "        vertical-align: top;\n",
              "    }\n",
              "\n",
              "    .dataframe thead th {\n",
              "        text-align: right;\n",
              "    }\n",
              "</style>\n",
              "<table border=\"1\" class=\"dataframe\">\n",
              "  <thead>\n",
              "    <tr style=\"text-align: right;\">\n",
              "      <th></th>\n",
              "      <th>datetime</th>\n",
              "      <th>url</th>\n",
              "      <th>domain</th>\n",
              "      <th>search_string</th>\n",
              "      <th>message</th>\n",
              "      <th>title</th>\n",
              "    </tr>\n",
              "  </thead>\n",
              "  <tbody>\n",
              "    <tr>\n",
              "      <th>2</th>\n",
              "      <td>2019-02-25 20:39:40.704631+00:00</td>\n",
              "      <td>NaN</td>\n",
              "      <td>NaN</td>\n",
              "      <td>NaN</td>\n",
              "      <td>Original URL: https://www.google.com/search?q=teamviewer&amp;oq=teamv&amp;...</td>\n",
              "      <td>NaN</td>\n",
              "    </tr>\n",
              "    <tr>\n",
              "      <th>3</th>\n",
              "      <td>2019-02-25 20:39:40.892631+00:00</td>\n",
              "      <td>https://www.google.com/search?q=teamviewer&amp;oq=teamv&amp;aqs=chrome.1.6...</td>\n",
              "      <td>www.google.com</td>\n",
              "      <td>teamviewer</td>\n",
              "      <td>https://www.google.com/search?q=teamviewer&amp;oq=teamv&amp;aqs=chrome.1.6...</td>\n",
              "      <td>teamviewer - Google Search</td>\n",
              "    </tr>\n",
              "    <tr>\n",
              "      <th>4</th>\n",
              "      <td>2019-02-25 20:39:45.709631+00:00</td>\n",
              "      <td>https://www.teamviewer.com/en-us/</td>\n",
              "      <td>www.teamviewer.com</td>\n",
              "      <td>NaN</td>\n",
              "      <td>https://www.teamviewer.com/en-us/ (Home - TeamViewer) [count: 0] T...</td>\n",
              "      <td>Home - TeamViewer</td>\n",
              "    </tr>\n",
              "    <tr>\n",
              "      <th>5</th>\n",
              "      <td>2019-02-25 20:39:46.099631+00:00</td>\n",
              "      <td>NaN</td>\n",
              "      <td>NaN</td>\n",
              "      <td>NaN</td>\n",
              "      <td>Original URL: https://static.teamviewer.com/resources/2018/10/logo...</td>\n",
              "      <td>NaN</td>\n",
              "    </tr>\n",
              "    <tr>\n",
              "      <th>6</th>\n",
              "      <td>2019-02-25 20:39:54.042631+00:00</td>\n",
              "      <td>NaN</td>\n",
              "      <td>NaN</td>\n",
              "      <td>NaN</td>\n",
              "      <td>Original URL: https://www.teamviewer.com/en-us/teamviewer-automati...</td>\n",
              "      <td>NaN</td>\n",
              "    </tr>\n",
              "    <tr>\n",
              "      <th>7</th>\n",
              "      <td>2019-02-25 20:39:54.789631+00:00</td>\n",
              "      <td>https://www.teamviewer.com/en-us/teamviewer-automatic-download/</td>\n",
              "      <td>www.teamviewer.com</td>\n",
              "      <td>NaN</td>\n",
              "      <td>https://www.teamviewer.com/en-us/teamviewer-automatic-download/ (T...</td>\n",
              "      <td>TeamViewer Automatic Download - TeamViewer</td>\n",
              "    </tr>\n",
              "    <tr>\n",
              "      <th>8</th>\n",
              "      <td>2019-02-25 20:39:59.189631+00:00</td>\n",
              "      <td>NaN</td>\n",
              "      <td>NaN</td>\n",
              "      <td>NaN</td>\n",
              "      <td>Original URL: https://tracking.g2crowd.com/attribution_tracking/co...</td>\n",
              "      <td>NaN</td>\n",
              "    </tr>\n",
              "    <tr>\n",
              "      <th>9</th>\n",
              "      <td>2019-02-25 20:39:59.984631+00:00</td>\n",
              "      <td>NaN</td>\n",
              "      <td>NaN</td>\n",
              "      <td>NaN</td>\n",
              "      <td>Original URL: https://bat.bing.com/action/0?ti=26037780&amp;Ver=2&amp;mid=...</td>\n",
              "      <td>NaN</td>\n",
              "    </tr>\n",
              "    <tr>\n",
              "      <th>10</th>\n",
              "      <td>2019-02-25 20:39:59.993631+00:00</td>\n",
              "      <td>NaN</td>\n",
              "      <td>NaN</td>\n",
              "      <td>NaN</td>\n",
              "      <td>Original URL: https://bat.bing.com/action/0?ti=5712416&amp;Ver=2&amp;mid=4...</td>\n",
              "      <td>NaN</td>\n",
              "    </tr>\n",
              "    <tr>\n",
              "      <th>11</th>\n",
              "      <td>2019-02-25 20:40:09.673631+00:00</td>\n",
              "      <td>NaN</td>\n",
              "      <td>NaN</td>\n",
              "      <td>NaN</td>\n",
              "      <td>Original URL: https://static.teamviewer.com/resources/2018/10/team...</td>\n",
              "      <td>NaN</td>\n",
              "    </tr>\n",
              "  </tbody>\n",
              "</table>\n",
              "</div>"
            ],
            "text/plain": [
              "                           datetime  ...                                       title\n",
              "2  2019-02-25 20:39:40.704631+00:00  ...                                         NaN\n",
              "3  2019-02-25 20:39:40.892631+00:00  ...                  teamviewer - Google Search\n",
              "4  2019-02-25 20:39:45.709631+00:00  ...                           Home - TeamViewer\n",
              "5  2019-02-25 20:39:46.099631+00:00  ...                                         NaN\n",
              "6  2019-02-25 20:39:54.042631+00:00  ...                                         NaN\n",
              "7  2019-02-25 20:39:54.789631+00:00  ...  TeamViewer Automatic Download - TeamViewer\n",
              "8  2019-02-25 20:39:59.189631+00:00  ...                                         NaN\n",
              "9  2019-02-25 20:39:59.984631+00:00  ...                                         NaN\n",
              "10 2019-02-25 20:39:59.993631+00:00  ...                                         NaN\n",
              "11 2019-02-25 20:40:09.673631+00:00  ...                                         NaN\n",
              "\n",
              "[10 rows x 6 columns]"
            ]
          },
          "metadata": {
            "tags": []
          },
          "execution_count": 58
        }
      ]
    },
    {
      "cell_type": "code",
      "metadata": {
        "id": "XVDEnDw2mvGh",
        "outputId": "11bcfb9f-e8e2-431c-8c61-a4b77f70218f",
        "colab": {
          "base_uri": "https://localhost:8080/",
          "height": 419
        }
      },
      "source": [
        "ts_results[ts_results.data_type == 'fs:stat'][['datetime', 'display_name', 'timestamp_desc']]"
      ],
      "execution_count": 60,
      "outputs": [
        {
          "output_type": "execute_result",
          "data": {
            "text/html": [
              "<div>\n",
              "<style scoped>\n",
              "    .dataframe tbody tr th:only-of-type {\n",
              "        vertical-align: middle;\n",
              "    }\n",
              "\n",
              "    .dataframe tbody tr th {\n",
              "        vertical-align: top;\n",
              "    }\n",
              "\n",
              "    .dataframe thead th {\n",
              "        text-align: right;\n",
              "    }\n",
              "</style>\n",
              "<table border=\"1\" class=\"dataframe\">\n",
              "  <thead>\n",
              "    <tr style=\"text-align: right;\">\n",
              "      <th></th>\n",
              "      <th>datetime</th>\n",
              "      <th>display_name</th>\n",
              "      <th>timestamp_desc</th>\n",
              "    </tr>\n",
              "  </thead>\n",
              "  <tbody>\n",
              "    <tr>\n",
              "      <th>12</th>\n",
              "      <td>2019-02-25 20:40:47.017096+00:00</td>\n",
              "      <td>NTFS:\\Users\\Administrator\\AppData\\Local\\Temp\\TeamViewer</td>\n",
              "      <td>Creation Time</td>\n",
              "    </tr>\n",
              "    <tr>\n",
              "      <th>13</th>\n",
              "      <td>2019-02-25 20:40:47.068462+00:00</td>\n",
              "      <td>NTFS:\\Program Files (x86)\\TeamViewer\\tvinfo.ini</td>\n",
              "      <td>Content Modification Time</td>\n",
              "    </tr>\n",
              "    <tr>\n",
              "      <th>14</th>\n",
              "      <td>2019-02-25 20:40:47.068462+00:00</td>\n",
              "      <td>NTFS:\\Program Files (x86)\\TeamViewer\\tvinfo.ini</td>\n",
              "      <td>Metadata Modification Time</td>\n",
              "    </tr>\n",
              "    <tr>\n",
              "      <th>15</th>\n",
              "      <td>2019-02-25 20:40:47.068462+00:00</td>\n",
              "      <td>NTFS:\\Users\\Administrator\\AppData\\Local\\Temp\\TeamViewer\\TeamViewer...</td>\n",
              "      <td>Metadata Modification Time</td>\n",
              "    </tr>\n",
              "    <tr>\n",
              "      <th>16</th>\n",
              "      <td>2019-02-25 20:40:47.068462+00:00</td>\n",
              "      <td>NTFS:\\Users\\Administrator\\AppData\\Local\\Temp\\TeamViewer\\tvinfo.ini</td>\n",
              "      <td>Content Modification Time</td>\n",
              "    </tr>\n",
              "    <tr>\n",
              "      <th>...</th>\n",
              "      <td>...</td>\n",
              "      <td>...</td>\n",
              "      <td>...</td>\n",
              "    </tr>\n",
              "    <tr>\n",
              "      <th>440</th>\n",
              "      <td>2019-03-03 21:50:47.742384+00:00</td>\n",
              "      <td>NTFS:\\Program Files (x86)\\TeamViewer\\x64</td>\n",
              "      <td>Metadata Modification Time</td>\n",
              "    </tr>\n",
              "    <tr>\n",
              "      <th>441</th>\n",
              "      <td>2019-03-03 21:50:47.742384+00:00</td>\n",
              "      <td>NTFS:\\Program Files (x86)\\TeamViewer\\x64\\TeamViewerVPN.sy_</td>\n",
              "      <td>Metadata Modification Time</td>\n",
              "    </tr>\n",
              "    <tr>\n",
              "      <th>442</th>\n",
              "      <td>2019-03-03 21:50:48.872722+00:00</td>\n",
              "      <td>NTFS:\\Users\\Administrator\\AppData\\Local\\Temp\\TeamViewer\\TV14Instal...</td>\n",
              "      <td>Content Modification Time</td>\n",
              "    </tr>\n",
              "    <tr>\n",
              "      <th>443</th>\n",
              "      <td>2019-03-03 21:50:48.872722+00:00</td>\n",
              "      <td>NTFS:\\Users\\Administrator\\AppData\\Local\\Temp\\TeamViewer\\TV14Instal...</td>\n",
              "      <td>Last Access Time</td>\n",
              "    </tr>\n",
              "    <tr>\n",
              "      <th>444</th>\n",
              "      <td>2019-03-03 21:50:48.872722+00:00</td>\n",
              "      <td>NTFS:\\Users\\Administrator\\AppData\\Local\\Temp\\TeamViewer\\TV14Instal...</td>\n",
              "      <td>Metadata Modification Time</td>\n",
              "    </tr>\n",
              "  </tbody>\n",
              "</table>\n",
              "<p>264 rows × 3 columns</p>\n",
              "</div>"
            ],
            "text/plain": [
              "                            datetime  ...              timestamp_desc\n",
              "12  2019-02-25 20:40:47.017096+00:00  ...               Creation Time\n",
              "13  2019-02-25 20:40:47.068462+00:00  ...   Content Modification Time\n",
              "14  2019-02-25 20:40:47.068462+00:00  ...  Metadata Modification Time\n",
              "15  2019-02-25 20:40:47.068462+00:00  ...  Metadata Modification Time\n",
              "16  2019-02-25 20:40:47.068462+00:00  ...   Content Modification Time\n",
              "..                               ...  ...                         ...\n",
              "440 2019-03-03 21:50:47.742384+00:00  ...  Metadata Modification Time\n",
              "441 2019-03-03 21:50:47.742384+00:00  ...  Metadata Modification Time\n",
              "442 2019-03-03 21:50:48.872722+00:00  ...   Content Modification Time\n",
              "443 2019-03-03 21:50:48.872722+00:00  ...            Last Access Time\n",
              "444 2019-03-03 21:50:48.872722+00:00  ...  Metadata Modification Time\n",
              "\n",
              "[264 rows x 3 columns]"
            ]
          },
          "metadata": {
            "tags": []
          },
          "execution_count": 60
        }
      ]
    },
    {
      "cell_type": "markdown",
      "metadata": {
        "id": "-3krCPn50csr"
      },
      "source": [
        "So from this, in a short interval starting 2019-02-25T20:39, we can see:\n",
        "*  a Google search for \"teamviewer\"\n",
        "*  a visit in Chrome to teamviewer.com,\n",
        "*  then teamviewer.com/en-us/teamviewer-automatic-download/,\n",
        "*  and lastly a bunch of TeamViewer related files being created.\n",
        "\n",
        "The web browser and files created were done under the Administrator account (per the path filename), so that's our answer."
      ]
    },
    {
      "cell_type": "markdown",
      "metadata": {
        "id": "5EzZwgne_V44"
      },
      "source": [
        "### Q: How Many Times\n",
        "At least how many times did the teamviewer_desktop.exe run?"
      ]
    },
    {
      "cell_type": "markdown",
      "metadata": {
        "id": "--29x7kjADg3"
      },
      "source": [
        "Prefetch is a great artifact for \"how many times did something run\"-type questions, so let's look for Prefetch execution entries for the program in question:"
      ]
    },
    {
      "cell_type": "code",
      "metadata": {
        "id": "v2ZjHcsv_Voj",
        "outputId": "785ab6eb-41a9-4cac-de2a-4a4800309a9b",
        "colab": {
          "base_uri": "https://localhost:8080/",
          "height": 193
        }
      },
      "source": [
        "ts_results = ctf.explore(\n",
        "    'data_type:\"windows:prefetch:execution\" AND teamviewer_desktop.exe', \n",
        "    return_fields='datetime,timestamp_desc,data_type,executable,run_count,message', \n",
        "    as_pandas=True)\n",
        "ts_results[['datetime','timestamp_desc','data_type','executable','run_count','message']]"
      ],
      "execution_count": 61,
      "outputs": [
        {
          "output_type": "execute_result",
          "data": {
            "text/html": [
              "<div>\n",
              "<style scoped>\n",
              "    .dataframe tbody tr th:only-of-type {\n",
              "        vertical-align: middle;\n",
              "    }\n",
              "\n",
              "    .dataframe tbody tr th {\n",
              "        vertical-align: top;\n",
              "    }\n",
              "\n",
              "    .dataframe thead th {\n",
              "        text-align: right;\n",
              "    }\n",
              "</style>\n",
              "<table border=\"1\" class=\"dataframe\">\n",
              "  <thead>\n",
              "    <tr style=\"text-align: right;\">\n",
              "      <th></th>\n",
              "      <th>datetime</th>\n",
              "      <th>timestamp_desc</th>\n",
              "      <th>data_type</th>\n",
              "      <th>executable</th>\n",
              "      <th>run_count</th>\n",
              "      <th>message</th>\n",
              "    </tr>\n",
              "  </thead>\n",
              "  <tbody>\n",
              "    <tr>\n",
              "      <th>0</th>\n",
              "      <td>2019-03-18 17:59:20.791307+00:00</td>\n",
              "      <td>Previous Last Time Executed</td>\n",
              "      <td>windows:prefetch:execution</td>\n",
              "      <td>TEAMVIEWER_DESKTOP.EXE</td>\n",
              "      <td>3</td>\n",
              "      <td>Prefetch [TEAMVIEWER_DESKTOP.EXE] was executed - run count 3 path ...</td>\n",
              "    </tr>\n",
              "    <tr>\n",
              "      <th>1</th>\n",
              "      <td>2019-03-18 18:34:19.242037+00:00</td>\n",
              "      <td>Previous Last Time Executed</td>\n",
              "      <td>windows:prefetch:execution</td>\n",
              "      <td>TEAMVIEWER_DESKTOP.EXE</td>\n",
              "      <td>3</td>\n",
              "      <td>Prefetch [TEAMVIEWER_DESKTOP.EXE] was executed - run count 3 path ...</td>\n",
              "    </tr>\n",
              "    <tr>\n",
              "      <th>2</th>\n",
              "      <td>2019-03-18 18:36:49.217664+00:00</td>\n",
              "      <td>Last Time Executed</td>\n",
              "      <td>windows:prefetch:execution</td>\n",
              "      <td>TEAMVIEWER_DESKTOP.EXE</td>\n",
              "      <td>3</td>\n",
              "      <td>Prefetch [TEAMVIEWER_DESKTOP.EXE] was executed - run count 3 path ...</td>\n",
              "    </tr>\n",
              "  </tbody>\n",
              "</table>\n",
              "</div>"
            ],
            "text/plain": [
              "                          datetime  ...                                                                message\n",
              "0 2019-03-18 17:59:20.791307+00:00  ...  Prefetch [TEAMVIEWER_DESKTOP.EXE] was executed - run count 3 path ...\n",
              "1 2019-03-18 18:34:19.242037+00:00  ...  Prefetch [TEAMVIEWER_DESKTOP.EXE] was executed - run count 3 path ...\n",
              "2 2019-03-18 18:36:49.217664+00:00  ...  Prefetch [TEAMVIEWER_DESKTOP.EXE] was executed - run count 3 path ...\n",
              "\n",
              "[3 rows x 6 columns]"
            ]
          },
          "metadata": {
            "tags": []
          },
          "execution_count": 61
        }
      ]
    },
    {
      "cell_type": "markdown",
      "metadata": {
        "id": "QwCaUO1TBLis"
      },
      "source": [
        "### Q: Execute Where\n",
        "After looking at the TEAMVIEWER_DESKTOP.EXE prefetch file, which path was the executable in at the time of execution?\n",
        "\n"
      ]
    },
    {
      "cell_type": "markdown",
      "metadata": {
        "id": "8gu7QiD-Bkou"
      },
      "source": [
        "We did all the work for this question with the previous query (the answer is in the message string), but we can explicitly query for the path:"
      ]
    },
    {
      "cell_type": "code",
      "metadata": {
        "id": "Y1jC_-hMBLUG",
        "outputId": "e314cde8-e6cd-4628-b85e-54053cdf3198",
        "colab": {
          "base_uri": "https://localhost:8080/",
          "height": 193
        }
      },
      "source": [
        "ts_results = ctf.explore(\n",
        "    'data_type:\"windows:prefetch:execution\" AND teamviewer_desktop.exe', \n",
        "    return_fields='*',  as_pandas=True)\n",
        "ts_results[['datetime','timestamp_desc','data_type','executable','run_count', 'path_hints']]"
      ],
      "execution_count": 65,
      "outputs": [
        {
          "output_type": "execute_result",
          "data": {
            "text/html": [
              "<div>\n",
              "<style scoped>\n",
              "    .dataframe tbody tr th:only-of-type {\n",
              "        vertical-align: middle;\n",
              "    }\n",
              "\n",
              "    .dataframe tbody tr th {\n",
              "        vertical-align: top;\n",
              "    }\n",
              "\n",
              "    .dataframe thead th {\n",
              "        text-align: right;\n",
              "    }\n",
              "</style>\n",
              "<table border=\"1\" class=\"dataframe\">\n",
              "  <thead>\n",
              "    <tr style=\"text-align: right;\">\n",
              "      <th></th>\n",
              "      <th>datetime</th>\n",
              "      <th>timestamp_desc</th>\n",
              "      <th>data_type</th>\n",
              "      <th>executable</th>\n",
              "      <th>run_count</th>\n",
              "      <th>path_hints</th>\n",
              "    </tr>\n",
              "  </thead>\n",
              "  <tbody>\n",
              "    <tr>\n",
              "      <th>0</th>\n",
              "      <td>2019-03-18 17:59:20.791307+00:00</td>\n",
              "      <td>Previous Last Time Executed</td>\n",
              "      <td>windows:prefetch:execution</td>\n",
              "      <td>TEAMVIEWER_DESKTOP.EXE</td>\n",
              "      <td>3</td>\n",
              "      <td>[\\PROGRAM FILES (X86)\\TEAMVIEWER\\TEAMVIEWER_DESKTOP.EXE]</td>\n",
              "    </tr>\n",
              "    <tr>\n",
              "      <th>1</th>\n",
              "      <td>2019-03-18 18:34:19.242037+00:00</td>\n",
              "      <td>Previous Last Time Executed</td>\n",
              "      <td>windows:prefetch:execution</td>\n",
              "      <td>TEAMVIEWER_DESKTOP.EXE</td>\n",
              "      <td>3</td>\n",
              "      <td>[\\PROGRAM FILES (X86)\\TEAMVIEWER\\TEAMVIEWER_DESKTOP.EXE]</td>\n",
              "    </tr>\n",
              "    <tr>\n",
              "      <th>2</th>\n",
              "      <td>2019-03-18 18:36:49.217664+00:00</td>\n",
              "      <td>Last Time Executed</td>\n",
              "      <td>windows:prefetch:execution</td>\n",
              "      <td>TEAMVIEWER_DESKTOP.EXE</td>\n",
              "      <td>3</td>\n",
              "      <td>[\\PROGRAM FILES (X86)\\TEAMVIEWER\\TEAMVIEWER_DESKTOP.EXE]</td>\n",
              "    </tr>\n",
              "  </tbody>\n",
              "</table>\n",
              "</div>"
            ],
            "text/plain": [
              "                          datetime  ...                                                path_hints\n",
              "0 2019-03-18 17:59:20.791307+00:00  ...  [\\PROGRAM FILES (X86)\\TEAMVIEWER\\TEAMVIEWER_DESKTOP.EXE]\n",
              "1 2019-03-18 18:34:19.242037+00:00  ...  [\\PROGRAM FILES (X86)\\TEAMVIEWER\\TEAMVIEWER_DESKTOP.EXE]\n",
              "2 2019-03-18 18:36:49.217664+00:00  ...  [\\PROGRAM FILES (X86)\\TEAMVIEWER\\TEAMVIEWER_DESKTOP.EXE]\n",
              "\n",
              "[3 rows x 6 columns]"
            ]
          },
          "metadata": {
            "tags": []
          },
          "execution_count": 65
        }
      ]
    },
    {
      "cell_type": "markdown",
      "metadata": {
        "id": "4Z5KJzwABK7V"
      },
      "source": [
        "## Registry Questions\n",
        "This last set of questions can be answered using the Windows Registry (and one from event logs)."
      ]
    },
    {
      "cell_type": "markdown",
      "metadata": {
        "id": "oYn41EUYFf5O"
      },
      "source": [
        "Lots of registry questions depend on the Current Control Set, so let's verify what it is:"
      ]
    },
    {
      "cell_type": "code",
      "metadata": {
        "id": "qbT0cf4dB_aJ",
        "outputId": "c697a132-212a-4af5-975a-f740292ff377",
        "colab": {
          "base_uri": "https://localhost:8080/",
          "height": 80
        }
      },
      "source": [
        "# Escaping fun: We need to esacpe the slashes in the key_path once for Timesketch and once for Python, so we'll have triple slashes (\\\\\\)\n",
        "ts_results = ctf.explore(\n",
        "    'data_type:\"windows:registry:key_value\" AND key_path:\"HKEY_LOCAL_MACHINE\\\\\\System\\\\\\Select\"', \n",
        "    return_fields='datetime,timestamp_desc,data_type,message', \n",
        "    as_pandas=True)\n",
        "ts_results[['datetime','timestamp_desc','data_type','message']]"
      ],
      "execution_count": 66,
      "outputs": [
        {
          "output_type": "execute_result",
          "data": {
            "text/html": [
              "<div>\n",
              "<style scoped>\n",
              "    .dataframe tbody tr th:only-of-type {\n",
              "        vertical-align: middle;\n",
              "    }\n",
              "\n",
              "    .dataframe tbody tr th {\n",
              "        vertical-align: top;\n",
              "    }\n",
              "\n",
              "    .dataframe thead th {\n",
              "        text-align: right;\n",
              "    }\n",
              "</style>\n",
              "<table border=\"1\" class=\"dataframe\">\n",
              "  <thead>\n",
              "    <tr style=\"text-align: right;\">\n",
              "      <th></th>\n",
              "      <th>datetime</th>\n",
              "      <th>timestamp_desc</th>\n",
              "      <th>data_type</th>\n",
              "      <th>message</th>\n",
              "    </tr>\n",
              "  </thead>\n",
              "  <tbody>\n",
              "    <tr>\n",
              "      <th>0</th>\n",
              "      <td>2018-04-11 23:38:44.315360+00:00</td>\n",
              "      <td>Content Modification Time</td>\n",
              "      <td>windows:registry:key_value</td>\n",
              "      <td>[HKEY_LOCAL_MACHINE\\System\\Select] Current: [REG_DWORD_LE] 1 Defau...</td>\n",
              "    </tr>\n",
              "  </tbody>\n",
              "</table>\n",
              "</div>"
            ],
            "text/plain": [
              "                          datetime  ...                                                                message\n",
              "0 2018-04-11 23:38:44.315360+00:00  ...  [HKEY_LOCAL_MACHINE\\System\\Select] Current: [REG_DWORD_LE] 1 Defau...\n",
              "\n",
              "[1 rows x 4 columns]"
            ]
          },
          "metadata": {
            "tags": []
          },
          "execution_count": 66
        }
      ]
    },
    {
      "cell_type": "markdown",
      "metadata": {
        "id": "FoqCvGtlFnZ1"
      },
      "source": [
        "From the message, the Current control set is 1."
      ]
    },
    {
      "cell_type": "markdown",
      "metadata": {
        "id": "3QuYQux5FtlO"
      },
      "source": [
        "### Q: What was the timezone offset at the time of imaging? and What is the timezone of the Desktop"
      ]
    },
    {
      "cell_type": "markdown",
      "metadata": {
        "id": "sX5xYElTHxOh"
      },
      "source": [
        "I'm combining these, since the answer is in the same query:"
      ]
    },
    {
      "cell_type": "code",
      "metadata": {
        "id": "f8CE4NYEFzWu",
        "outputId": "6fb52516-ff8f-4e79-a6a6-b8e380d0f53b",
        "colab": {
          "base_uri": "https://localhost:8080/",
          "height": 80
        }
      },
      "source": [
        "ts_results = ctf.explore(\n",
        "    'data_type:\"windows:registry:timezone\"', \n",
        "    return_fields='datetime,timestamp_desc,data_type,message', \n",
        "    as_pandas=True)\n",
        "\n",
        "ts_results[['datetime','timestamp_desc','data_type','message']]"
      ],
      "execution_count": 74,
      "outputs": [
        {
          "output_type": "execute_result",
          "data": {
            "text/html": [
              "<div>\n",
              "<style scoped>\n",
              "    .dataframe tbody tr th:only-of-type {\n",
              "        vertical-align: middle;\n",
              "    }\n",
              "\n",
              "    .dataframe tbody tr th {\n",
              "        vertical-align: top;\n",
              "    }\n",
              "\n",
              "    .dataframe thead th {\n",
              "        text-align: right;\n",
              "    }\n",
              "</style>\n",
              "<table border=\"1\" class=\"dataframe\">\n",
              "  <thead>\n",
              "    <tr style=\"text-align: right;\">\n",
              "      <th></th>\n",
              "      <th>datetime</th>\n",
              "      <th>timestamp_desc</th>\n",
              "      <th>data_type</th>\n",
              "      <th>message</th>\n",
              "    </tr>\n",
              "  </thead>\n",
              "  <tbody>\n",
              "    <tr>\n",
              "      <th>0</th>\n",
              "      <td>2019-03-10 10:00:00.000413+00:00</td>\n",
              "      <td>Content Modification Time</td>\n",
              "      <td>windows:registry:timezone</td>\n",
              "      <td>[HKEY_LOCAL_MACHINE\\System\\ControlSet001\\Control\\TimeZoneInformati...</td>\n",
              "    </tr>\n",
              "  </tbody>\n",
              "</table>\n",
              "</div>"
            ],
            "text/plain": [
              "                          datetime  ...                                                                message\n",
              "0 2019-03-10 10:00:00.000413+00:00  ...  [HKEY_LOCAL_MACHINE\\System\\ControlSet001\\Control\\TimeZoneInformati...\n",
              "\n",
              "[1 rows x 4 columns]"
            ]
          },
          "metadata": {
            "tags": []
          },
          "execution_count": 74
        }
      ]
    },
    {
      "cell_type": "markdown",
      "metadata": {
        "id": "HJDjeFc0bzu4"
      },
      "source": [
        "The message is really long; let's pull it out:"
      ]
    },
    {
      "cell_type": "code",
      "metadata": {
        "id": "s8UMrq0tb3u6",
        "outputId": "6d7335d8-9b37-47ad-8920-3695fc272a30",
        "colab": {
          "base_uri": "https://localhost:8080/"
        }
      },
      "source": [
        "message = list(ts_results.message.unique())[0]\n",
        "buffer = []\n",
        "first = True\n",
        "key = ''\n",
        "for word in message.split():\n",
        "  if first:\n",
        "    print(word)\n",
        "    first = False\n",
        "    continue\n",
        "\n",
        "  if not word.endswith(':'):\n",
        "    buffer.append(word)\n",
        "    continue\n",
        "  \n",
        "  if key:\n",
        "    words = ' '.join(buffer)\n",
        "    buffer = []\n",
        "    print(f'{\" \"*4}{key} = {words}')\n",
        "\n",
        "  key = word[:-1]\n",
        "\n",
        "words = ' '.join(buffer)\n",
        "buffer = []\n",
        "print(f'{\" \"*4}{key} = {words}')\n"
      ],
      "execution_count": 83,
      "outputs": [
        {
          "output_type": "stream",
          "text": [
            "[HKEY_LOCAL_MACHINE\\System\\ControlSet001\\Control\\TimeZoneInformation]\n",
            "    ActiveTimeBias = 420\n",
            "    Bias = 480\n",
            "    DaylightBias = -60\n",
            "    DaylightName = @tzres.dll,-211\n",
            "    DynamicDaylightTimeDisabled = 0\n",
            "    StandardBias = 0\n",
            "    StandardName = @tzres.dll,-212\n",
            "    TimeZoneKeyName = Pacific Standard Time\n"
          ],
          "name": "stdout"
        }
      ]
    },
    {
      "cell_type": "markdown",
      "metadata": {
        "id": "NAloEuihHke2"
      },
      "source": [
        "The name of the Timezone is in the message string, as is the ActiveTimeBias, which we can use to get the UTC offset:"
      ]
    },
    {
      "cell_type": "code",
      "metadata": {
        "id": "5R57xnzQGzEB"
      },
      "source": [
        "# The ActiveTimeBias is in minutes, so divide by -60 (I don't know why it's stored negative): \n",
        "420 / -60"
      ],
      "execution_count": null,
      "outputs": []
    },
    {
      "cell_type": "markdown",
      "metadata": {
        "id": "yU8rM-2fQC-g"
      },
      "source": [
        "### Q: When was the Windows OS installed?"
      ]
    },
    {
      "cell_type": "markdown",
      "metadata": {
        "id": "yGnx4554QICl"
      },
      "source": [
        "Plaso actually parses this out as it's own data_type, so querying for it is easy:"
      ]
    },
    {
      "cell_type": "code",
      "metadata": {
        "id": "_DTNDAiAMSgz",
        "outputId": "8048f660-10a9-45f4-eec2-3da60dee7a57",
        "colab": {
          "base_uri": "https://localhost:8080/",
          "height": 111
        }
      },
      "source": [
        "ts_results = ctf.explore(\n",
        "    'data_type:\"windows:registry:installation\"', \n",
        "    return_fields='datetime,timestamp_desc,data_type,message', \n",
        "    as_pandas=True)\n",
        "ts_results[['datetime','timestamp_desc','data_type','message']]"
      ],
      "execution_count": 84,
      "outputs": [
        {
          "output_type": "execute_result",
          "data": {
            "text/html": [
              "<div>\n",
              "<style scoped>\n",
              "    .dataframe tbody tr th:only-of-type {\n",
              "        vertical-align: middle;\n",
              "    }\n",
              "\n",
              "    .dataframe tbody tr th {\n",
              "        vertical-align: top;\n",
              "    }\n",
              "\n",
              "    .dataframe thead th {\n",
              "        text-align: right;\n",
              "    }\n",
              "</style>\n",
              "<table border=\"1\" class=\"dataframe\">\n",
              "  <thead>\n",
              "    <tr style=\"text-align: right;\">\n",
              "      <th></th>\n",
              "      <th>datetime</th>\n",
              "      <th>timestamp_desc</th>\n",
              "      <th>data_type</th>\n",
              "      <th>message</th>\n",
              "    </tr>\n",
              "  </thead>\n",
              "  <tbody>\n",
              "    <tr>\n",
              "      <th>0</th>\n",
              "      <td>1970-01-01 00:00:00+00:00</td>\n",
              "      <td>Installation Time</td>\n",
              "      <td>windows:registry:installation</td>\n",
              "      <td>Windows 10 Enterprise 6.3 17134 Owner: User Origin: HKEY_LOCAL_MAC...</td>\n",
              "    </tr>\n",
              "    <tr>\n",
              "      <th>1</th>\n",
              "      <td>2018-07-28 07:27:53+00:00</td>\n",
              "      <td>Installation Time</td>\n",
              "      <td>windows:registry:installation</td>\n",
              "      <td>Windows 10 Enterprise 6.3 17134 Owner: User Origin: HKEY_LOCAL_MAC...</td>\n",
              "    </tr>\n",
              "  </tbody>\n",
              "</table>\n",
              "</div>"
            ],
            "text/plain": [
              "                   datetime  ...                                                                message\n",
              "0 1970-01-01 00:00:00+00:00  ...  Windows 10 Enterprise 6.3 17134 Owner: User Origin: HKEY_LOCAL_MAC...\n",
              "1 2018-07-28 07:27:53+00:00  ...  Windows 10 Enterprise 6.3 17134 Owner: User Origin: HKEY_LOCAL_MAC...\n",
              "\n",
              "[2 rows x 4 columns]"
            ]
          },
          "metadata": {
            "tags": []
          },
          "execution_count": 84
        }
      ]
    },
    {
      "cell_type": "markdown",
      "metadata": {
        "id": "h6OG8tRbRf6b"
      },
      "source": [
        "### Q: What is the IP address of the Desktop?"
      ]
    },
    {
      "cell_type": "markdown",
      "metadata": {
        "id": "kNmlBEFAR1lI"
      },
      "source": [
        "We already confirmed the Control Set is 001, so let's query for the registry key under that control set that holds the Interface information:"
      ]
    },
    {
      "cell_type": "code",
      "metadata": {
        "id": "angYvM_3RfA1",
        "outputId": "101466ab-a0dc-4d05-9841-c1a6c3808eeb",
        "colab": {
          "base_uri": "https://localhost:8080/",
          "height": 173
        }
      },
      "source": [
        "ts_results = ctf.explore(\n",
        "    'key_path:\"System\\\\\\ControlSet001\\\\\\Services\\\\\\Tcpip\\\\\\Parameters\\\\\\Interfaces\"', \n",
        "    return_fields='datetime,timestamp_desc,data_type,message', \n",
        "    as_pandas=True)\n",
        "ts_results[['datetime','timestamp_desc','data_type','message']]"
      ],
      "execution_count": 85,
      "outputs": [
        {
          "output_type": "execute_result",
          "data": {
            "text/html": [
              "<div>\n",
              "<style scoped>\n",
              "    .dataframe tbody tr th:only-of-type {\n",
              "        vertical-align: middle;\n",
              "    }\n",
              "\n",
              "    .dataframe tbody tr th {\n",
              "        vertical-align: top;\n",
              "    }\n",
              "\n",
              "    .dataframe thead th {\n",
              "        text-align: right;\n",
              "    }\n",
              "</style>\n",
              "<table border=\"1\" class=\"dataframe\">\n",
              "  <thead>\n",
              "    <tr style=\"text-align: right;\">\n",
              "      <th></th>\n",
              "      <th>datetime</th>\n",
              "      <th>timestamp_desc</th>\n",
              "      <th>data_type</th>\n",
              "      <th>message</th>\n",
              "    </tr>\n",
              "  </thead>\n",
              "  <tbody>\n",
              "    <tr>\n",
              "      <th>0</th>\n",
              "      <td>2018-07-28 07:24:52.829076+00:00</td>\n",
              "      <td>Content Modification Time</td>\n",
              "      <td>windows:registry:key_value</td>\n",
              "      <td>[HKEY_LOCAL_MACHINE\\System\\ControlSet001\\Services\\Tcpip\\Parameters...</td>\n",
              "    </tr>\n",
              "    <tr>\n",
              "      <th>1</th>\n",
              "      <td>2018-07-28 07:25:02.991173+00:00</td>\n",
              "      <td>Content Modification Time</td>\n",
              "      <td>windows:registry:key_value</td>\n",
              "      <td>[HKEY_LOCAL_MACHINE\\System\\ControlSet001\\Services\\Tcpip\\Parameters...</td>\n",
              "    </tr>\n",
              "    <tr>\n",
              "      <th>2</th>\n",
              "      <td>2018-07-28 07:36:43.379743+00:00</td>\n",
              "      <td>Content Modification Time</td>\n",
              "      <td>windows:registry:key_value</td>\n",
              "      <td>[HKEY_LOCAL_MACHINE\\System\\ControlSet001\\Services\\Tcpip\\Parameters...</td>\n",
              "    </tr>\n",
              "    <tr>\n",
              "      <th>3</th>\n",
              "      <td>2019-03-20 20:55:53.014563+00:00</td>\n",
              "      <td>Content Modification Time</td>\n",
              "      <td>windows:registry:key_value</td>\n",
              "      <td>[HKEY_LOCAL_MACHINE\\System\\ControlSet001\\Services\\Tcpip\\Parameters...</td>\n",
              "    </tr>\n",
              "  </tbody>\n",
              "</table>\n",
              "</div>"
            ],
            "text/plain": [
              "                          datetime  ...                                                                message\n",
              "0 2018-07-28 07:24:52.829076+00:00  ...  [HKEY_LOCAL_MACHINE\\System\\ControlSet001\\Services\\Tcpip\\Parameters...\n",
              "1 2018-07-28 07:25:02.991173+00:00  ...  [HKEY_LOCAL_MACHINE\\System\\ControlSet001\\Services\\Tcpip\\Parameters...\n",
              "2 2018-07-28 07:36:43.379743+00:00  ...  [HKEY_LOCAL_MACHINE\\System\\ControlSet001\\Services\\Tcpip\\Parameters...\n",
              "3 2019-03-20 20:55:53.014563+00:00  ...  [HKEY_LOCAL_MACHINE\\System\\ControlSet001\\Services\\Tcpip\\Parameters...\n",
              "\n",
              "[4 rows x 4 columns]"
            ]
          },
          "metadata": {
            "tags": []
          },
          "execution_count": 85
        }
      ]
    },
    {
      "cell_type": "markdown",
      "metadata": {
        "id": "LckTVA9eSDCR"
      },
      "source": [
        "There are a few entries, but only the last one has what we want. Reading through it (or using Ctrl+F) we can find the 'IPAddress' is 64.44.141.76."
      ]
    },
    {
      "cell_type": "code",
      "metadata": {
        "id": "55kVv0nOcVKf",
        "outputId": "ced95203-dfbd-407e-8d32-fcd0fa20e91a",
        "colab": {
          "base_uri": "https://localhost:8080/"
        }
      },
      "source": [
        "set(ts_results.message)"
      ],
      "execution_count": 86,
      "outputs": [
        {
          "output_type": "execute_result",
          "data": {
            "text/plain": [
              "{'[HKEY_LOCAL_MACHINE\\\\System\\\\ControlSet001\\\\Services\\\\Tcpip\\\\Parameters\\\\Interfaces\\\\{237df97c-14eb-4ba8-af9e-a99d8dd8b936}] AddressType: [REG_DWORD_LE] 0 DhcpConnForceBroadcastFlag: [REG_DWORD_LE] 0 DhcpDefaultGateway: [REG_MULTI_SZ] [64.44.141.1] DhcpGatewayHardware: [REG_BINARY] (14 bytes) DhcpGatewayHardwareCount: [REG_DWORD_LE] 1 DhcpIPAddress: [REG_SZ] 64.44.141.76 DhcpInterfaceOptions: [REG_BINARY] (348 bytes) DhcpNameServer: [REG_SZ] 8.8.8.8 8.8.4.4 DhcpServer: [REG_SZ] 167.88.4.2 DhcpSubnetMask: [REG_SZ] 255.255.255.0 DhcpSubnetMaskOpt: [REG_MULTI_SZ] [255.255.255.0] Domain: [REG_SZ]  EnableDHCP: [REG_DWORD_LE] 1 IsServerNapAware: [REG_DWORD_LE] 0 Lease: [REG_DWORD_LE] 21600000 LeaseObtainedTime: [REG_DWORD_LE] 28 LeaseTerminatesTime: [REG_DWORD_LE] 21600028 NameServer: [REG_SZ]  T1: [REG_DWORD_LE] 10800028 T2: [REG_DWORD_LE] 18900028',\n",
              " '[HKEY_LOCAL_MACHINE\\\\System\\\\ControlSet001\\\\Services\\\\Tcpip\\\\Parameters\\\\Interfaces\\\\{33b71fd7-9aaa-4528-a0e5-006a2123864a}] Domain: [REG_SZ]  EnableDHCP: [REG_DWORD_LE] 1 NameServer: [REG_SZ] ',\n",
              " '[HKEY_LOCAL_MACHINE\\\\System\\\\ControlSet001\\\\Services\\\\Tcpip\\\\Parameters\\\\Interfaces\\\\{ac3af346-923f-11e8-87fa-806e6f6e6963}] (empty)',\n",
              " '[HKEY_LOCAL_MACHINE\\\\System\\\\ControlSet001\\\\Services\\\\Tcpip\\\\Parameters\\\\Interfaces] (empty)'}"
            ]
          },
          "metadata": {
            "tags": []
          },
          "execution_count": 86
        }
      ]
    },
    {
      "cell_type": "markdown",
      "metadata": {
        "id": "TstAJwDdpW8E"
      },
      "source": [
        "Or we can use str.extract:"
      ]
    },
    {
      "cell_type": "code",
      "metadata": {
        "id": "0sS_9nFEpYTf",
        "outputId": "1ff4506b-6e42-46c0-8a1c-f803a6c1d454",
        "colab": {
          "base_uri": "https://localhost:8080/",
          "height": 173
        }
      },
      "source": [
        "ts_results.message.str.extract(r'DhcpIPAddress: \\[REG_SZ\\] ([^ ]+)')"
      ],
      "execution_count": 90,
      "outputs": [
        {
          "output_type": "execute_result",
          "data": {
            "text/html": [
              "<div>\n",
              "<style scoped>\n",
              "    .dataframe tbody tr th:only-of-type {\n",
              "        vertical-align: middle;\n",
              "    }\n",
              "\n",
              "    .dataframe tbody tr th {\n",
              "        vertical-align: top;\n",
              "    }\n",
              "\n",
              "    .dataframe thead th {\n",
              "        text-align: right;\n",
              "    }\n",
              "</style>\n",
              "<table border=\"1\" class=\"dataframe\">\n",
              "  <thead>\n",
              "    <tr style=\"text-align: right;\">\n",
              "      <th></th>\n",
              "      <th>0</th>\n",
              "    </tr>\n",
              "  </thead>\n",
              "  <tbody>\n",
              "    <tr>\n",
              "      <th>0</th>\n",
              "      <td>NaN</td>\n",
              "    </tr>\n",
              "    <tr>\n",
              "      <th>1</th>\n",
              "      <td>NaN</td>\n",
              "    </tr>\n",
              "    <tr>\n",
              "      <th>2</th>\n",
              "      <td>NaN</td>\n",
              "    </tr>\n",
              "    <tr>\n",
              "      <th>3</th>\n",
              "      <td>64.44.141.76</td>\n",
              "    </tr>\n",
              "  </tbody>\n",
              "</table>\n",
              "</div>"
            ],
            "text/plain": [
              "              0\n",
              "0           NaN\n",
              "1           NaN\n",
              "2           NaN\n",
              "3  64.44.141.76"
            ]
          },
          "metadata": {
            "tags": []
          },
          "execution_count": 90
        }
      ]
    },
    {
      "cell_type": "markdown",
      "metadata": {
        "id": "VXtkOaKTU5YP"
      },
      "source": [
        "### Q: Which User Shutdown Windows on February 25th 2019?"
      ]
    },
    {
      "cell_type": "markdown",
      "metadata": {
        "id": "UbuECyqADgrp"
      },
      "source": [
        "Event logs seem like a good place to look for this answer, since a shutdown generates a 1074 event in the System event log. From the question, we have a fairly-narrow timeframe, so let's slice the results down to that after we do our query: "
      ]
    },
    {
      "cell_type": "code",
      "metadata": {
        "id": "6dq7IoM_U7Qo",
        "outputId": "8f6156cb-b8bf-450c-fe70-77c276a4382e",
        "colab": {
          "base_uri": "https://localhost:8080/",
          "height": 204
        }
      },
      "source": [
        "ts_results = ctf.explore(\n",
        "    'data_type:\"windows:evtx:record\" AND display_name:\"System.evtx\" AND event_identifier:\"1074\"', \n",
        "    return_fields='*', as_pandas=True)\n",
        "ts_results = ts_results.set_index('datetime')\n",
        "ts_results['2019-02-25':'2019-02-26'][['timestamp_desc','data_type','username','message']]"
      ],
      "execution_count": 93,
      "outputs": [
        {
          "output_type": "execute_result",
          "data": {
            "text/html": [
              "<div>\n",
              "<style scoped>\n",
              "    .dataframe tbody tr th:only-of-type {\n",
              "        vertical-align: middle;\n",
              "    }\n",
              "\n",
              "    .dataframe tbody tr th {\n",
              "        vertical-align: top;\n",
              "    }\n",
              "\n",
              "    .dataframe thead th {\n",
              "        text-align: right;\n",
              "    }\n",
              "</style>\n",
              "<table border=\"1\" class=\"dataframe\">\n",
              "  <thead>\n",
              "    <tr style=\"text-align: right;\">\n",
              "      <th></th>\n",
              "      <th>timestamp_desc</th>\n",
              "      <th>data_type</th>\n",
              "      <th>username</th>\n",
              "      <th>message</th>\n",
              "    </tr>\n",
              "    <tr>\n",
              "      <th>datetime</th>\n",
              "      <th></th>\n",
              "      <th></th>\n",
              "      <th></th>\n",
              "      <th></th>\n",
              "    </tr>\n",
              "  </thead>\n",
              "  <tbody>\n",
              "    <tr>\n",
              "      <th>2019-02-25 20:04:41.849411+00:00</th>\n",
              "      <td>Creation Time</td>\n",
              "      <td>windows:evtx:record</td>\n",
              "      <td>Administrator</td>\n",
              "      <td>[1074 / 0x0432] Source Name: User32 Strings: ['C:\\Windows\\System32...</td>\n",
              "    </tr>\n",
              "    <tr>\n",
              "      <th>2019-02-25 20:04:41.849412+00:00</th>\n",
              "      <td>Content Modification Time</td>\n",
              "      <td>windows:evtx:record</td>\n",
              "      <td>Administrator</td>\n",
              "      <td>[1074 / 0x0432] Source Name: User32 Strings: ['C:\\Windows\\System32...</td>\n",
              "    </tr>\n",
              "    <tr>\n",
              "      <th>2019-02-25 20:13:52.584201+00:00</th>\n",
              "      <td>Content Modification Time</td>\n",
              "      <td>windows:evtx:record</td>\n",
              "      <td>Administrator</td>\n",
              "      <td>[1074 / 0x0432] Source Name: User32 Strings: ['C:\\Windows\\System32...</td>\n",
              "    </tr>\n",
              "    <tr>\n",
              "      <th>2019-02-25 20:13:52.584201+00:00</th>\n",
              "      <td>Creation Time</td>\n",
              "      <td>windows:evtx:record</td>\n",
              "      <td>Administrator</td>\n",
              "      <td>[1074 / 0x0432] Source Name: User32 Strings: ['C:\\Windows\\System32...</td>\n",
              "    </tr>\n",
              "  </tbody>\n",
              "</table>\n",
              "</div>"
            ],
            "text/plain": [
              "                                             timestamp_desc  ...                                                                message\n",
              "datetime                                                     ...                                                                       \n",
              "2019-02-25 20:04:41.849411+00:00              Creation Time  ...  [1074 / 0x0432] Source Name: User32 Strings: ['C:\\Windows\\System32...\n",
              "2019-02-25 20:04:41.849412+00:00  Content Modification Time  ...  [1074 / 0x0432] Source Name: User32 Strings: ['C:\\Windows\\System32...\n",
              "2019-02-25 20:13:52.584201+00:00  Content Modification Time  ...  [1074 / 0x0432] Source Name: User32 Strings: ['C:\\Windows\\System32...\n",
              "2019-02-25 20:13:52.584201+00:00              Creation Time  ...  [1074 / 0x0432] Source Name: User32 Strings: ['C:\\Windows\\System32...\n",
              "\n",
              "[4 rows x 4 columns]"
            ]
          },
          "metadata": {
            "tags": []
          },
          "execution_count": 93
        }
      ]
    },
    {
      "cell_type": "markdown",
      "metadata": {
        "id": "AlWim_NuGMeV"
      },
      "source": [
        "# Wrap Up"
      ]
    },
    {
      "cell_type": "markdown",
      "metadata": {
        "id": "BbHOAd3X9Sq-"
      },
      "source": [
        "That's it! Thanks for reading and I hope you found this useful. This walkthrough covered most of the questions from the 'Basic - Desktop' category; I may do other sections as well if there is time/interest. If you found this useful, check out Kristinn's demonstration of [Timesketch and Colab](https://colab.research.google.com/github/google/timesketch/blob/master/notebooks/colab-timesketch-demo.ipynb).\n",
        "\n",
        "You can get the free, open source tools I used to solve the CTF:\n",
        "* Plaso / Log2Timeline: https://github.com/log2timeline/plaso\n",
        "* Timesketch: https://github.com/google/timesketch\n",
        "* Colab(oratory): https://colab.sandbox.google.com/notebooks/welcome.ipynb "
      ]
    }
  ]
}