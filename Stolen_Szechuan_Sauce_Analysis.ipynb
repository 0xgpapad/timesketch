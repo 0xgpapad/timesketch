{
  "nbformat": 4,
  "nbformat_minor": 0,
  "metadata": {
    "colab": {
      "name": "Stolen Szechuan Sauce - Analysis.ipynb",
      "provenance": [],
      "private_outputs": true,
      "collapsed_sections": [],
      "toc_visible": true,
      "include_colab_link": true
    },
    "kernelspec": {
      "name": "python3",
      "display_name": "Python 3"
    }
  },
  "cells": [
    {
      "cell_type": "markdown",
      "metadata": {
        "id": "view-in-github",
        "colab_type": "text"
      },
      "source": [
        "<a href=\"https://colab.research.google.com/github/kiddinn/timesketch/blob/colab_sauce/Stolen_Szechuan_Sauce_Analysis.ipynb\" target=\"_parent\"><img src=\"https://colab.research.google.com/assets/colab-badge.svg\" alt=\"Open In Colab\"/></a>"
      ]
    },
    {
      "cell_type": "markdown",
      "metadata": {
        "id": "STgOOx_i9NKV"
      },
      "source": [
        "# The Case of The Stolen Szechuan Sauce\n",
        "\n",
        "This is a simple colab demonstrating one way of analyzing data from the Stolen Szechuan Sauce challenge (found [here](https://dfirmadness.com/the-stolen-szechuan-sauce/)).\n",
        "\n",
        "This colab will not go into any of the data upload. It assumes that all data is already collected and uploaded to Timesketch. To see one way of uploading the data to Timesketch, use [this colab](https://colab.research.google.com/github/google/timesketch/blob/master/notebooks/Stolen_Szechuan_Sauce_Data_Upload.ipynb)\n",
        "\n",
        "For a more generic instructions of Colab can be [found here](https://colab.research.google.com/github/google/timesketch/blob/master/notebooks/colab-timesketch-demo.ipynb)"
      ]
    },
    {
      "cell_type": "markdown",
      "metadata": {
        "id": "VlUAyi73BJUI"
      },
      "source": [
        "If you are running this on a cloud runtime you'll need to install these dependencies:"
      ]
    },
    {
      "cell_type": "code",
      "metadata": {
        "id": "YywEaQSTBOjH"
      },
      "source": [
        "# @markdown Only execute if not already installed and running a cloud runtime\n",
        "!pip install timesketch_api_client"
      ],
      "execution_count": null,
      "outputs": []
    },
    {
      "cell_type": "code",
      "metadata": {
        "id": "fi9-7n--lXOV",
        "cellView": "form"
      },
      "source": [
        "# @title Import libraries\n",
        "# @markdown This cell will import all the libraries needed for the running of this colab.\n",
        "\n",
        "import re\n",
        "\n",
        "import pandas as pd\n",
        "\n",
        "from timesketch_api_client import config"
      ],
      "execution_count": null,
      "outputs": []
    },
    {
      "cell_type": "code",
      "metadata": {
        "id": "FiPTLA-qlkWQ",
        "cellView": "form"
      },
      "source": [
        "# @markdown Get a copy of the Timesketch client object.\n",
        "# @markdown Parameters to configure the client:\n",
        "# @markdown + host_uri: https://demo.timesketch.org\n",
        "# @markdown + username: demo\n",
        "# @markdown + auth_mode: timesketch (username/password)\n",
        "# @markdown + password: demo\n",
        "\n",
        "ts_client = config.get_client()"
      ],
      "execution_count": null,
      "outputs": []
    },
    {
      "cell_type": "markdown",
      "metadata": {
        "id": "hkQ98MnC-x3p"
      },
      "source": [
        "Now that we've got a copy of the TS client we need to get to the sketch."
      ]
    },
    {
      "cell_type": "code",
      "metadata": {
        "id": "RN5fKCshls9L"
      },
      "source": [
        "for sketch in ts_client.list_sketches():\n",
        "  if not sketch.name.startswith('Szechuan'):\n",
        "    continue\n",
        "\n",
        "  print('We found the sketch to use')\n",
        "  print(f'[{sketch.id}] {sketch.name} - {sketch.description}')\n",
        "  break"
      ],
      "execution_count": null,
      "outputs": []
    },
    {
      "cell_type": "markdown",
      "metadata": {
        "id": "lLlaWPgi_o1r"
      },
      "source": [
        "Now we can start answering the questions.\n",
        "\n",
        "## Questions"
      ]
    },
    {
      "cell_type": "markdown",
      "metadata": {
        "id": "kNyG9uur_1xK"
      },
      "source": [
        "### What’s the Operating System of the Server?\n",
        "\n",
        "Let's start exploring this, OS information is stored in the registry. Let's query it"
      ]
    },
    {
      "cell_type": "code",
      "metadata": {
        "id": "hQwvz4R9BmCF"
      },
      "source": [
        "cur_df = sketch.explore(\n",
        "    'parser:\"winreg/windows_version\"',\n",
        "    as_pandas=True,\n",
        "    return_fields='datetime,key_path,data_type,message,timestamp_desc,parser,display_name,product_name,hostname,timestamp_desc'\n",
        ")"
      ],
      "execution_count": null,
      "outputs": []
    },
    {
      "cell_type": "code",
      "metadata": {
        "id": "hfAIKnt-EKak"
      },
      "source": [
        "cur_df[['hostname', 'product_name']]"
      ],
      "execution_count": null,
      "outputs": []
    },
    {
      "cell_type": "markdown",
      "metadata": {
        "id": "mQ4RxzwnDrbu"
      },
      "source": [
        "So we now have the all the data, we can read the data from the table or do one more filtering to get the answer:"
      ]
    },
    {
      "cell_type": "code",
      "metadata": {
        "id": "x01scNWNG9Zn"
      },
      "source": [
        "cur_df[cur_df.hostname == 'CITADEL-DC01'].product_name.value_counts()"
      ],
      "execution_count": null,
      "outputs": []
    },
    {
      "cell_type": "markdown",
      "metadata": {
        "id": "2ksIYrrI_8Be"
      },
      "source": [
        "### What’s the Operating System of the Desktop?\n",
        "\n",
        "we can use the same data as we collected before:"
      ]
    },
    {
      "cell_type": "code",
      "metadata": {
        "id": "jDRnhdlUHG4S"
      },
      "source": [
        "cur_df[cur_df.hostname == 'DESKTOP-SDN1RPT'].product_name.value_counts()"
      ],
      "execution_count": null,
      "outputs": []
    },
    {
      "cell_type": "markdown",
      "metadata": {
        "id": "wrpH_DttAejS"
      },
      "source": [
        "### What was the local time of the Server?\n",
        "\n",
        "To answer that we need to get the current control set"
      ]
    },
    {
      "cell_type": "code",
      "metadata": {
        "id": "XRo0pe4eJyMi"
      },
      "source": [
        "cur_df = sketch.explore(\n",
        "    'HKEY_LOCAL_MACHINE*System*Select AND hostname:\"CITADEL-DC01\"',\n",
        "    as_pandas=True,\n",
        "    return_fields=(\n",
        "        'datetime,key_path,data_type,message,timestamp_desc,parser,display_name,'\n",
        "        'product_name,hostname,timestamp_desc,values')\n",
        ")"
      ],
      "execution_count": null,
      "outputs": []
    },
    {
      "cell_type": "markdown",
      "metadata": {
        "id": "oPECs_jt_T_H"
      },
      "source": [
        "Now let's look at what the value is set for the key."
      ]
    },
    {
      "cell_type": "code",
      "metadata": {
        "id": "1TwaMYZBJ2ce"
      },
      "source": [
        "for key, value in cur_df[['key_path', 'values']].values:\n",
        "  print(f'Key: {key}')\n",
        "  print(f'Value: {value}')"
      ],
      "execution_count": null,
      "outputs": []
    },
    {
      "cell_type": "markdown",
      "metadata": {
        "id": "1taojYh2_kDX"
      },
      "source": [
        "We can parse this out a bit more if we want to, or just read from there that the current value is 1"
      ]
    },
    {
      "cell_type": "code",
      "metadata": {
        "id": "MaRYpTIN_on9"
      },
      "source": [
        "cur_df['current_value'] = cur_df['values'].str.extract(r'Current: \\[[A-Z_]+\\] (\\d) ')\n",
        "\n",
        "cur_df[['key_path', 'current_value']]"
      ],
      "execution_count": null,
      "outputs": []
    },
    {
      "cell_type": "markdown",
      "metadata": {
        "id": "VSAo1MWHJ-vP"
      },
      "source": [
        "The current one is set 1"
      ]
    },
    {
      "cell_type": "code",
      "metadata": {
        "id": "duOb8qURKJpn"
      },
      "source": [
        "cur_df = sketch.explore(\n",
        "    'TimeZoneInformation AND hostname:\"CITADEL-DC01\"',\n",
        "    as_pandas=True,\n",
        "    return_fields='datetime,key_path,data_type,message,timestamp_desc,parser,display_name,product_name,hostname,timestamp_desc,configuration'\n",
        ")\n",
        "cur_df"
      ],
      "execution_count": null,
      "outputs": []
    },
    {
      "cell_type": "code",
      "metadata": {
        "id": "LQIF_bVFLYLt"
      },
      "source": [
        "pd.set_option('max_colwidth', 400)"
      ],
      "execution_count": null,
      "outputs": []
    },
    {
      "cell_type": "code",
      "metadata": {
        "id": "3ZeK5sfCKcwi"
      },
      "source": [
        "cur_df[['configuration']]"
      ],
      "execution_count": null,
      "outputs": []
    },
    {
      "cell_type": "markdown",
      "metadata": {
        "id": "IJMrF5txAjHm"
      },
      "source": [
        "So we need to extract what is in `TimeZoneKeyName`, we can do this differently. For now we can just read the configuration field, and then split it into a dict and then construct a new DataFrame with these fields, that is taking a line that is `key1: value1 key2: value2 ...` and creating a data frame with `key1, key2, ...` being the column names."
      ]
    },
    {
      "cell_type": "code",
      "metadata": {
        "id": "8GHciqYvAhdU"
      },
      "source": [
        "lines = []\n",
        "for value in cur_df['configuration'].values:\n",
        "  items = value.split()\n",
        "  line_dict = {}\n",
        "  key = ''\n",
        "  value_list = []\n",
        "  for item in items:\n",
        "    if item.endswith(':'):\n",
        "      if key and value_list:\n",
        "        line_dict[key] = ' '.join(value_list)\n",
        "        value_list = []\n",
        "      key = item[:-1]\n",
        "      continue\n",
        "    value_list.append(item)\n",
        "  if key and value_list:\n",
        "    line_dict[key] = ' '.join(value_list)\n",
        "    \n",
        "  lines.append(line_dict)\n",
        "time_df = pd.DataFrame(lines)"
      ],
      "execution_count": null,
      "outputs": []
    },
    {
      "cell_type": "markdown",
      "metadata": {
        "id": "LG_9D9mzCBrX"
      },
      "source": [
        "Let's look at the newly constructed data frame"
      ]
    },
    {
      "cell_type": "code",
      "metadata": {
        "id": "cgtctQ_hCEfi"
      },
      "source": [
        "time_df"
      ],
      "execution_count": null,
      "outputs": []
    },
    {
      "cell_type": "markdown",
      "metadata": {
        "id": "9f4lPffKEByw"
      },
      "source": [
        "Then we've got the time zone of the server, which is `Pacific Standard Time`"
      ]
    },
    {
      "cell_type": "markdown",
      "metadata": {
        "id": "SgEQMlM6Ahxm"
      },
      "source": [
        "### Was there a breach?\n"
      ]
    },
    {
      "cell_type": "markdown",
      "metadata": {
        "id": "P4iT1TtREafv"
      },
      "source": [
        "**MISSING TEXT HERE**"
      ]
    },
    {
      "cell_type": "markdown",
      "metadata": {
        "id": "oNZXvnc5Ajs1"
      },
      "source": [
        "### What was the initial entry vector (how did they get in)?\n",
        "\n",
        "If we assume they got in from externally, doing some statistics on the network data might be useful. For that we need to do some aggregations.\n",
        "\n",
        "First to understand what aggregations are available to use, and how to use them, let's use the `list_available_aggregators` which produces a data frame with the names of the aggregators and what parameters they need for configuration.\n"
      ]
    },
    {
      "cell_type": "code",
      "metadata": {
        "id": "y76Xnu7AEmO8"
      },
      "source": [
        "sketch.list_available_aggregators()"
      ],
      "execution_count": null,
      "outputs": []
    },
    {
      "cell_type": "markdown",
      "metadata": {
        "id": "QHok29TaExGy"
      },
      "source": [
        "Now that we know what aggregators are available, let's start with aggregating the field `Source`, and get the top 10.\n",
        "\n",
        "For that we need to use the `field_bucket` aggregator, and configuring it using the parameters `field`, `limit` and `supported_charts`.\n",
        "\n",
        "The charts that are available are:\n",
        " + barchart\n",
        " + hbarchart\n",
        " + table\n",
        " + circlechart\n",
        " + linechart\n",
        "\n",
        "For this let's use a horizontal bar chart, `hbarchart`"
      ]
    },
    {
      "cell_type": "code",
      "metadata": {
        "id": "gLMtyrWtLqLj"
      },
      "source": [
        "params = {\n",
        "    'field': 'Source',\n",
        "    'limit': 10,\n",
        "    'supported_charts': 'hbarchart',\n",
        "    'chart_title': 'Top 10 Source IP',\n",
        "}\n",
        "\n",
        "aggregation = sketch.run_aggregator(aggregator_name='field_bucket', aggregator_parameters=params)\n",
        "aggregation.chart"
      ],
      "execution_count": null,
      "outputs": []
    },
    {
      "cell_type": "markdown",
      "metadata": {
        "id": "GHNhwNsGFSUH"
      },
      "source": [
        "If you prefer to get the data frame instead of the chart you can call `aggregation.table`"
      ]
    },
    {
      "cell_type": "code",
      "metadata": {
        "id": "ZFnInNAnFZYB"
      },
      "source": [
        "aggregation.table"
      ],
      "execution_count": null,
      "outputs": []
    },
    {
      "cell_type": "markdown",
      "metadata": {
        "id": "0EsPZ5wyFbxY"
      },
      "source": [
        "Now let's look at the `Destination` field, same as before:"
      ]
    },
    {
      "cell_type": "code",
      "metadata": {
        "id": "WNauKP1OL1Ps"
      },
      "source": [
        "params = {\n",
        "    'field': 'Destination',\n",
        "    'limit': 10,\n",
        "    'supported_charts': 'hbarchart',\n",
        "    'chart_title': 'Top 10 Source IP',\n",
        "}\n",
        "\n",
        "aggregation = sketch.run_aggregator(aggregator_name='field_bucket', aggregator_parameters=params)\n",
        "aggregation.chart"
      ],
      "execution_count": null,
      "outputs": []
    },
    {
      "cell_type": "markdown",
      "metadata": {
        "id": "Dm5dT3ZyL3rU"
      },
      "source": [
        "We can clearly see that the ```194.61.24.102``` sticks out, so lets try to understand what this IP did. Also note that it is not common that a system from the internet tries to connect to a intranet IP."
      ]
    },
    {
      "cell_type": "markdown",
      "metadata": {
        "id": "w-QQPvb8MIgr"
      },
      "source": [
        "#### A Look at IP 194.61.24.102"
      ]
    },
    {
      "cell_type": "code",
      "metadata": {
        "id": "Os8SYJiMM96R"
      },
      "source": [
        "attacker_dst = sketch.explore(\n",
        "    'Source:\"194.61.24.102\" AND data_type:\"pcap:wireshark:entry\"',\n",
        "    as_pandas=True,\n",
        "    return_fields='datetime,message,timestamp_desc,Destination,DST port,Source,Protocol,src port')\n",
        "attacker_dst.head(10)"
      ],
      "execution_count": null,
      "outputs": []
    },
    {
      "cell_type": "markdown",
      "metadata": {
        "id": "yHK4xt7mGAz1"
      },
      "source": [
        "We got a fairly large table, let's look at the size:"
      ]
    },
    {
      "cell_type": "code",
      "metadata": {
        "id": "2_MxJxRqGE6L"
      },
      "source": [
        "attacker_dst.shape"
      ],
      "execution_count": null,
      "outputs": []
    },
    {
      "cell_type": "markdown",
      "metadata": {
        "id": "XFmjxrW2GHyf"
      },
      "source": [
        "We will now need to do some aggregation on the data that we got, let's use pandas for that. For that there is a function called `groupby` where we can run aggregations.\n",
        "\n",
        "We want to group based on `DST port` and `Destination`, so we only need those two columns + one more to store the count/sum."
      ]
    },
    {
      "cell_type": "code",
      "metadata": {
        "id": "D0uY7rFeGW4u"
      },
      "source": [
        "attacker_group = attacker_dst[['DST port','Destination', 'Protocol']].groupby(\n",
        "    ['DST port','Destination'], as_index=False)"
      ],
      "execution_count": null,
      "outputs": []
    },
    {
      "cell_type": "markdown",
      "metadata": {
        "id": "RWDgHXLdG37E"
      },
      "source": [
        "Now we got a group, and to get a count, we can use the `count()` function of the group."
      ]
    },
    {
      "cell_type": "code",
      "metadata": {
        "id": "GZ2OEKNmG7NY"
      },
      "source": [
        "attacker_dst_mytable = attacker_group.count()\n",
        "attacker_dst_mytable.rename(columns={'Protocol': 'Count'}, inplace=True)\n",
        "attacker_dst_mytable.sort_values(by=['Count'], ascending=False)"
      ],
      "execution_count": null,
      "outputs": []
    },
    {
      "cell_type": "markdown",
      "metadata": {
        "id": "0TWTkbGONNkj"
      },
      "source": [
        "So we can already point out that there is a lot of traffic from this ip to ```10.42.85.10``` on port ```3389```which is used for Remote Desktop Protocol (RDP)\n",
        "\n",
        "Let's now look at the IP traffic as it was parsed by scapy"
      ]
    },
    {
      "cell_type": "code",
      "metadata": {
        "id": "pmqx3AFHNlCc"
      },
      "source": [
        "attacker_dst = sketch.explore(\n",
        "    '194.61.24.102 AND data_type:\"scapy:pcap:entry\"',\n",
        "    as_pandas=True,\n",
        "    return_fields='datetime,message,timestamp_desc,ip_flags,ip_dst,ip_src,payload,tcp_flags,tcp_seq,tcp_sport,tcp_dport,tcp_window')\n"
      ],
      "execution_count": null,
      "outputs": []
    },
    {
      "cell_type": "markdown",
      "metadata": {
        "id": "QCbCRWmxH7ML"
      },
      "source": [
        "Let's look at a few entries here:"
      ]
    },
    {
      "cell_type": "code",
      "metadata": {
        "id": "esIgaBjeOwCN"
      },
      "source": [
        "attacker_dst.head(10)"
      ],
      "execution_count": null,
      "outputs": []
    },
    {
      "cell_type": "markdown",
      "metadata": {
        "id": "-VfhmF4eIW2Q"
      },
      "source": [
        "What we can see here is that quite a bit of the information is  in the message field that we need to decode.\n",
        "\n",
        "We also see that the `evil` bit is set... we could query for that as well. Let's start there, to do an aggregation based on that."
      ]
    },
    {
      "cell_type": "code",
      "metadata": {
        "id": "fYpGly-JIe26"
      },
      "source": [
        "params = {\n",
        "    'field': 'ip_src',\n",
        "    'query_string': 'ip_flags:\"evil\"',\n",
        "    'supported_charts': 'hbarchart',\n",
        "    'chart_title': 'Source IPs with \"evil\" bit set',\n",
        "}\n",
        "\n",
        "aggregation = sketch.run_aggregator(aggregator_name='query_bucket', aggregator_parameters=params)\n",
        "aggregation.table"
      ],
      "execution_count": null,
      "outputs": []
    },
    {
      "cell_type": "markdown",
      "metadata": {
        "id": "7m7YfTJ5JZbw"
      },
      "source": [
        "We could even save this (if you have write access to the sketch, which the demo user does not have)"
      ]
    },
    {
      "cell_type": "code",
      "metadata": {
        "id": "GVfPCwpcJdjV"
      },
      "source": [
        "name = 'Source IPs with \"evil\" bit set'\n",
        "aggregation.name = name\n",
        "aggregation.title = name\n",
        "aggregation.save()"
      ],
      "execution_count": null,
      "outputs": []
    },
    {
      "cell_type": "markdown",
      "metadata": {
        "id": "u4zTQKnpJlm1"
      },
      "source": [
        "And now we could use this in a story for instance.\n",
        "\n",
        "But let's move on and parse the message field:\n",
        "\n",
        "First let's look at a single entry. To see how it is constructed:"
      ]
    },
    {
      "cell_type": "code",
      "metadata": {
        "id": "-l2C19JEJsSp"
      },
      "source": [
        "attacker_dst.iloc[0].message"
      ],
      "execution_count": null,
      "outputs": []
    },
    {
      "cell_type": "markdown",
      "metadata": {
        "id": "ZYX6y6yPPef3"
      },
      "source": [
        "Now that we know that, let's first remove the `<bound method...` in the beginning. Let's check to see if it's the same across the board:"
      ]
    },
    {
      "cell_type": "code",
      "metadata": {
        "id": "aSvMRCNPP1Cs"
      },
      "source": [
        "attacker_dst.message.str.slice(start=0, stop=30).unique()"
      ],
      "execution_count": null,
      "outputs": []
    },
    {
      "cell_type": "markdown",
      "metadata": {
        "id": "DmZK1tcXQE29"
      },
      "source": [
        "OK, so it's the same, we can therefore just use the slice method to remove this part of the string. After that we can then split the string based on `|` which separates the protocols."
      ]
    },
    {
      "cell_type": "code",
      "metadata": {
        "id": "o1DIGDJPJwIH"
      },
      "source": [
        "attacker_packages = attacker_dst.message.str.slice(start=30).str.split('|', expand=True)"
      ],
      "execution_count": null,
      "outputs": []
    },
    {
      "cell_type": "markdown",
      "metadata": {
        "id": "b8Drp6zHQYTp"
      },
      "source": [
        "Let's explain what was done in the above syntax. First of all we used the [slice method](https://pandas.pydata.org/pandas-docs/stable/reference/api/pandas.Series.str.slice.html) to cut the first 30 characters out of the messages field. What we are left with is the rest of the message string. We then use the [split method](https://pandas.pydata.org/pandas-docs/stable/reference/api/pandas.Series.str.split.html) to split the string, based on `|`, and adding the option of `expand=True`, which then expands the results into a separate dataframe (as an opposed to just a list).\n",
        "\n",
        "Now let's look at how this looks like:"
      ]
    },
    {
      "cell_type": "code",
      "metadata": {
        "id": "SuDvaBjgQye5"
      },
      "source": [
        "attacker_packages.head(3)"
      ],
      "execution_count": null,
      "outputs": []
    },
    {
      "cell_type": "markdown",
      "metadata": {
        "id": "vNxAynm1QDzr"
      },
      "source": [
        "We can see a lot of values there are marked as None.. and basically all the columns from 3 and up are not useful, so let's remove those. And then rename the remaining columns"
      ]
    },
    {
      "cell_type": "code",
      "metadata": {
        "id": "U0srug77RAU2"
      },
      "source": [
        "attacker_packages = attacker_packages[[0, 1, 2]]\n",
        "attacker_packages.columns = ['ether', 'ip', 'transport']"
      ],
      "execution_count": null,
      "outputs": []
    },
    {
      "cell_type": "markdown",
      "metadata": {
        "id": "438XdwXCRLOz"
      },
      "source": [
        "And let's look at how this looks like now:"
      ]
    },
    {
      "cell_type": "code",
      "metadata": {
        "id": "Gay0e-toRNUL"
      },
      "source": [
        "attacker_packages.head(3)"
      ],
      "execution_count": null,
      "outputs": []
    },
    {
      "cell_type": "markdown",
      "metadata": {
        "id": "-9r-fqPVRS5S"
      },
      "source": [
        "Now let's look at what happened in the first few packages:"
      ]
    },
    {
      "cell_type": "code",
      "metadata": {
        "id": "8OwFKOyxRWyo"
      },
      "source": [
        "attacker_packages[['transport']].head(10)"
      ],
      "execution_count": null,
      "outputs": []
    },
    {
      "cell_type": "markdown",
      "metadata": {
        "id": "TJIR59T4Pvzu"
      },
      "source": [
        "What we can see here is that there is first an ICMP (Ping) then two HTTP/HTTPS Requests , another ICMP and then the 3389 traffic begins.\n",
        "\n",
        "We could obviously parse this even further if we want to."
      ]
    },
    {
      "cell_type": "code",
      "metadata": {
        "id": "cwKqQXkqRsBH"
      },
      "source": [
        "def parse_row(row):\n",
        "  items = row.split()\n",
        "  protocol = items[0][1:]\n",
        "  line_dict = {\n",
        "      'protocol': protocol\n",
        "  }\n",
        "  for item in items[1:]:\n",
        "    key, _, value = item.partition('=')\n",
        "    if key == 'options':\n",
        "      # We don't want options nor anything after that.\n",
        "      break\n",
        "    line_dict[key] = value\n",
        "  return line_dict\n",
        "\n",
        "proto_df = pd.DataFrame(list(attacker_packages['transport'].apply(parse_row).values))"
      ],
      "execution_count": null,
      "outputs": []
    },
    {
      "cell_type": "markdown",
      "metadata": {
        "id": "8A04dusllrNC"
      },
      "source": [
        "Let's look at it, but first let's add in the datetime, since these are the same records as we had in the original DF we can simply apply the datatime there."
      ]
    },
    {
      "cell_type": "code",
      "metadata": {
        "id": "427b8pEjl0Wx"
      },
      "source": [
        "proto_df['datetime'] = attacker_dst['datetime']"
      ],
      "execution_count": null,
      "outputs": []
    },
    {
      "cell_type": "code",
      "metadata": {
        "id": "au1Otrp0lskR"
      },
      "source": [
        "proto_df.head(3)"
      ],
      "execution_count": null,
      "outputs": []
    },
    {
      "cell_type": "markdown",
      "metadata": {
        "id": "CU-cbu2dl_a8"
      },
      "source": [
        "So now if we look at the first few actions made:"
      ]
    },
    {
      "cell_type": "code",
      "metadata": {
        "id": "v3z1wI0rmBNB"
      },
      "source": [
        "proto_df[['datetime', 'protocol', 'type', 'dport']].head(10)"
      ],
      "execution_count": null,
      "outputs": []
    },
    {
      "cell_type": "markdown",
      "metadata": {
        "id": "Vx22Q-lWosEK"
      },
      "source": [
        "So you can see the first action here.\n",
        "\n",
        "+ ICMP echo request\n",
        "+ TCP HTTPS\n",
        "+ TCP HTTP\n",
        "+ ICMP timestamp request\n",
        "+ ICMP echo reply\n",
        "+ TCP Remote Desktop, 3389\n",
        "\n"
      ]
    },
    {
      "cell_type": "markdown",
      "metadata": {
        "id": "zYpFNPF4pEBX"
      },
      "source": [
        "Let's look at the pair of both IPs:"
      ]
    },
    {
      "cell_type": "code",
      "metadata": {
        "id": "_lraZKXiMAYK"
      },
      "source": [
        "attacker_dst = sketch.explore(\n",
        "    '(194.61.24.102 AND 10.42.85.10) AND data_type:\"scapy:pcap:entry\"', \n",
        "    as_pandas=True,\n",
        "    return_fields='datetime,message,timestamp_desc,ip_flags,ip_dst,ip_src,payload,tcp_flags,tcp_seq,tcp_sport,tcp_dport,tcp_window')\n",
        "attacker_dst.head(10)"
      ],
      "execution_count": null,
      "outputs": []
    },
    {
      "cell_type": "markdown",
      "metadata": {
        "id": "HkTsG_38qRf8"
      },
      "source": [
        "We can then do the same as we did before to break things down."
      ]
    },
    {
      "cell_type": "code",
      "metadata": {
        "id": "7WLD0Kj2qais"
      },
      "source": [
        "attacker_packages = attacker_dst.message.str.slice(start=30).str.split('|', expand=True)\n",
        "attacker_packages = attacker_packages[[0, 1, 2]]\n",
        "attacker_packages.columns = ['ether', 'ip', 'transport']\n",
        "\n",
        "proto_df = pd.DataFrame(list(attacker_packages['transport'].apply(parse_row).values))\n",
        "proto_df['datetime'] = attacker_dst['datetime']\n",
        "\n",
        "proto_df[['datetime', 'protocol', 'type', 'dport']].head(10)"
      ],
      "execution_count": null,
      "outputs": []
    },
    {
      "cell_type": "markdown",
      "metadata": {
        "id": "_pkywJLQrmSm"
      },
      "source": [
        "So we know that this seems to be a RDP connection from the IP 194.61.24.102. Let's look at login events:"
      ]
    },
    {
      "cell_type": "code",
      "metadata": {
        "id": "irsZNInorrwf"
      },
      "source": [
        "evtx_df = sketch.explore(\n",
        "    '194.61.24.102 AND data_type:\"windows:evtx:record\"',\n",
        "    as_pandas=True,\n",
        "    return_fields='datetime,message,timestamp_desc,event_identifier,hostname,strings,user_sid,username,source_name,computer_name'\n",
        ")"
      ],
      "execution_count": null,
      "outputs": []
    },
    {
      "cell_type": "code",
      "metadata": {
        "id": "ruUnzS4psleT"
      },
      "source": [
        "evtx_df.head(3)"
      ],
      "execution_count": null,
      "outputs": []
    },
    {
      "cell_type": "markdown",
      "metadata": {
        "id": "pBLPc52ttMBZ"
      },
      "source": [
        "Let's get a quick overview of the data:"
      ]
    },
    {
      "cell_type": "code",
      "metadata": {
        "id": "ms19SLAvtNqk"
      },
      "source": [
        "evtx_df.username.value_counts()"
      ],
      "execution_count": null,
      "outputs": []
    },
    {
      "cell_type": "code",
      "metadata": {
        "id": "GIjNacIatSYC"
      },
      "source": [
        "evtx_df.event_identifier.value_counts()"
      ],
      "execution_count": null,
      "outputs": []
    },
    {
      "cell_type": "code",
      "metadata": {
        "id": "ixlYQi7CtkD1"
      },
      "source": [
        "evtx_df.source_name.value_counts()"
      ],
      "execution_count": null,
      "outputs": []
    },
    {
      "cell_type": "markdown",
      "metadata": {
        "id": "j3PE9nbPAlmy"
      },
      "source": [
        "### Was malware used? If so what was it? If there was malware answer the following:\n",
        "#### What process was malicious?\n",
        "\n",
        "\n",
        "#### What IP Address is the malware calling to?\n",
        "#### Where is this malware on disk?\n",
        "#### When did it first appear?\n",
        "#### Did someone move it?\n",
        "#### What were the capabilities of this malware?\n",
        "#### Is this malware easily obtained?\n",
        "#### Was this malware installed with persistence on any machine?\n",
        "##### When?\n",
        "##### Where?\n"
      ]
    },
    {
      "cell_type": "markdown",
      "metadata": {
        "id": "uhQaLDZeyl6R"
      },
      "source": [
        "#### Identify the IP Address that delivered the payload.\n"
      ]
    },
    {
      "cell_type": "code",
      "metadata": {
        "id": "aLc_RW2uym6l"
      },
      "source": [
        "attacker_dst = sketch.explore(\n",
        "    '(194.61.24.102 AND 10.42.85.10) AND data_type:\"scapy:pcap:entry\" AND *http* AND *GET*', \n",
        "    as_pandas=True,\n",
        "    return_fields='datetime,message,timestamp_desc,ip_flags,ip_dst,ip_src,payload,tcp_flags,tcp_seq,tcp_sport,tcp_dport,tcp_window')\n",
        "attacker_dst.head(10)"
      ],
      "execution_count": null,
      "outputs": []
    },
    {
      "cell_type": "markdown",
      "metadata": {
        "id": "6GDQthKvApg6"
      },
      "source": [
        "### What malicious IP Addresses were involved?\n",
        "#### Were any IP Addresses from known adversary infrastructure?\n",
        "#### Are these pieces of adversary infrastructure involved in other attacks around the time of the attack?\n"
      ]
    },
    {
      "cell_type": "markdown",
      "metadata": {
        "id": "EO_HT2Mu5qFG"
      },
      "source": [
        "If we assume 10.42.0.0 is the internal network, lets see which connections are made from that internal network"
      ]
    },
    {
      "cell_type": "code",
      "metadata": {
        "id": "5j3_pt4w5kQU"
      },
      "source": [
        "data = sketch.explore('ip_src:10.42.85* AND NOT ip_dst:10.42.85* AND data_type:\"scapy:pcap:entry\"', as_pandas=True,return_fields='datetime,ip_src,message,timestamp_desc,tcp_dport,ip_dst')\n",
        "\n"
      ],
      "execution_count": null,
      "outputs": []
    },
    {
      "cell_type": "code",
      "metadata": {
        "id": "dwxoguZXvNiT"
      },
      "source": [
        "pd.options.display.max_colwidth = 200"
      ],
      "execution_count": null,
      "outputs": []
    },
    {
      "cell_type": "code",
      "metadata": {
        "id": "HO5waMoz57K-"
      },
      "source": [
        "\n",
        "data[['datetime','ip_src', 'ip_dst', 'tcp_dport']]\n",
        "\n",
        "mytable = data.groupby(['ip_src','ip_dst']).size().to_frame('count').reset_index()\n",
        "mytable.sort_values(by=['count'], ascending=False)\n",
        "mytable"
      ],
      "execution_count": null,
      "outputs": []
    },
    {
      "cell_type": "markdown",
      "metadata": {
        "id": "qWXEpXO4xBG8"
      },
      "source": [
        "194.61.24.102 also shows bad signals on Virustotal"
      ]
    },
    {
      "cell_type": "markdown",
      "metadata": {
        "id": "VDfuPD6mAr4l"
      },
      "source": [
        "### Did the attacker access any other systems?\n",
        "#### How?\n",
        "#### When?\n",
        "#### Did the attacker steal or access any data?\n",
        "##### When?\n"
      ]
    },
    {
      "cell_type": "markdown",
      "metadata": {
        "id": "KaIcORDwAuA-"
      },
      "source": [
        "### What was the network layout of the victim network?\n",
        "\n",
        "This is a question we might not be able to answer with Timesketch\n"
      ]
    },
    {
      "cell_type": "markdown",
      "metadata": {
        "id": "8yx1MlKsAv39"
      },
      "source": [
        "### What architecture changes should be made immediately?\n"
      ]
    },
    {
      "cell_type": "markdown",
      "metadata": {
        "id": "FhtSFN9ZAxkv"
      },
      "source": [
        "### Did the attacker steal the Szechuan sauce? If so, what time?\n"
      ]
    },
    {
      "cell_type": "markdown",
      "metadata": {
        "id": "_Z6klmgUA0H0"
      },
      "source": [
        "### Did the attacker steal or access any other sensitive files? If so, what times?\n"
      ]
    },
    {
      "cell_type": "markdown",
      "metadata": {
        "id": "Wvadjag2A1ze"
      },
      "source": [
        "### Finally, when was the last known contact with the adversary?"
      ]
    },
    {
      "cell_type": "markdown",
      "metadata": {
        "id": "_edXcebqDxj-"
      },
      "source": [
        "## NOT DONE ANYTHING AFTER HERE... THER EARE ANSWERS HERE"
      ]
    },
    {
      "cell_type": "code",
      "metadata": {
        "id": "oWMFVyiMDw3h"
      },
      "source": [
        "data = sketch.explore('secret', as_pandas=True)\n"
      ],
      "execution_count": null,
      "outputs": []
    },
    {
      "cell_type": "code",
      "metadata": {
        "id": "dRCoqH8SmXbP"
      },
      "source": [
        "params = {\n",
        "    'field': 'Source',\n",
        "    'limit': 10,\n",
        "    'supported_charts': 'hbarchart',\n",
        "    'chart_title': 'Top 10 Source IP',\n",
        "}\n",
        "\n",
        "aggregation = sketch.run_aggregator(aggregator_name='field_bucket', aggregator_parameters=params)"
      ],
      "execution_count": null,
      "outputs": []
    },
    {
      "cell_type": "code",
      "metadata": {
        "id": "MVxmjdbLmitd"
      },
      "source": [
        "aggregation.chart"
      ],
      "execution_count": null,
      "outputs": []
    },
    {
      "cell_type": "code",
      "metadata": {
        "id": "1zhCbV6N5aHB"
      },
      "source": [
        "params = {\n",
        "    'field': 'Destination',\n",
        "    'limit': 10,\n",
        "    'supported_charts': 'hbarchart',\n",
        "    'chart_title': 'Top 10 Source IP',\n",
        "}\n",
        "\n",
        "aggregation = sketch.run_aggregator(aggregator_name='field_bucket', aggregator_parameters=params)\n",
        "aggregation.chart"
      ],
      "execution_count": null,
      "outputs": []
    },
    {
      "cell_type": "code",
      "metadata": {
        "id": "3wJiHsr4mAOZ"
      },
      "source": [
        "data"
      ],
      "execution_count": null,
      "outputs": []
    },
    {
      "cell_type": "markdown",
      "metadata": {
        "id": "mMEatgZcITf9"
      },
      "source": [
        "# Network statistics"
      ]
    },
    {
      "cell_type": "code",
      "metadata": {
        "id": "6hIJZCKDD2-A"
      },
      "source": [
        "all_comms = sketch.explore('timestamp_desc:all_packets.csv', as_pandas=True,return_fields='Source,Destination')\n"
      ],
      "execution_count": null,
      "outputs": []
    },
    {
      "cell_type": "code",
      "metadata": {
        "id": "zsQl0zphEajF"
      },
      "source": [
        "all_comms.info()"
      ],
      "execution_count": null,
      "outputs": []
    },
    {
      "cell_type": "code",
      "metadata": {
        "id": "YNqIB3MUEDbb"
      },
      "source": [
        "#mytable = all_comms.groupby(['Source','Destination']).size()\n",
        "mytable = all_comms.groupby(['Source','Destination']).size().to_frame('count').reset_index()\n",
        "mytable.sort_values(by=['count'], ascending=False)"
      ],
      "execution_count": null,
      "outputs": []
    },
    {
      "cell_type": "markdown",
      "metadata": {
        "id": "AogJePhRIa60"
      },
      "source": [
        "We can clearly see what are the common combinations, so we should have a look at `194.61.24.102` and further investigate\n",
        "\n"
      ]
    },
    {
      "cell_type": "markdown",
      "metadata": {
        "id": "QFMXLY40IqKu"
      },
      "source": [
        "#194.61.24.102\n",
        "\n",
        "Lets start with a simple explore for the ip but not network logs."
      ]
    },
    {
      "cell_type": "code",
      "metadata": {
        "id": "XbbRJpT_IySy"
      },
      "source": [
        "attacker_ip_not_network = sketch.explore('194.61.24.102 AND NOT timestamp_desc:all_packets.csv', as_pandas=True,return_fields='datetime,message,timestamp_desc')\n"
      ],
      "execution_count": null,
      "outputs": []
    },
    {
      "cell_type": "code",
      "metadata": {
        "id": "8pMYBSB0gkKU"
      },
      "source": [
        "attacker_ip_not_network = sketch.explore('194.61.24.102 AND NOT timestamp_desc:all_packets.csv', as_pandas=True,return_fields='datetime,message,timestamp_desc',max_entries=5)\n"
      ],
      "execution_count": null,
      "outputs": []
    },
    {
      "cell_type": "code",
      "metadata": {
        "id": "fLdUI34fg-8O"
      },
      "source": [
        "attacker_ip_not_network.info()"
      ],
      "execution_count": null,
      "outputs": []
    },
    {
      "cell_type": "code",
      "metadata": {
        "id": "Sg9vMQe2I8aM"
      },
      "source": [
        "attacker_ip_not_network"
      ],
      "execution_count": null,
      "outputs": []
    },
    {
      "cell_type": "code",
      "metadata": {
        "id": "D2OWby23JS65"
      },
      "source": [
        "pd.options.display.max_colwidth = 200"
      ],
      "execution_count": null,
      "outputs": []
    },
    {
      "cell_type": "code",
      "metadata": {
        "id": "RNtvgTlCKK5C"
      },
      "source": [
        "attacker_ip_not_network"
      ],
      "execution_count": null,
      "outputs": []
    },
    {
      "cell_type": "code",
      "metadata": {
        "id": "iVGNzM3pKWNm"
      },
      "source": [
        "attacker_ip_not_network.style.set_properties(**{'text-align': 'left'})\n"
      ],
      "execution_count": null,
      "outputs": []
    },
    {
      "cell_type": "code",
      "metadata": {
        "id": "5ONxFReY9OEF"
      },
      "source": [
        "# What is the \"attacker\" accesing:\n",
        "\n",
        "attacker_dst = sketch.explore('194.61.24.102 AND timestamp_desc:all_packets.csv', as_pandas=True,return_fields='datetime,message,timestamp_desc,Destination,DST port')\n",
        "attacker_dst"
      ],
      "execution_count": null,
      "outputs": []
    },
    {
      "cell_type": "code",
      "metadata": {
        "id": "T3XNOewP99zP"
      },
      "source": [
        "attacker_dst"
      ],
      "execution_count": null,
      "outputs": []
    },
    {
      "cell_type": "code",
      "metadata": {
        "id": "ITfiCPnt-KC3"
      },
      "source": [
        "attacker_dst_mytable = attacker_dst.groupby(['DST port','Destination']).size().to_frame('count').reset_index()\n",
        "attacker_dst_mytable.sort_values(by=['count'], ascending=False)"
      ],
      "execution_count": null,
      "outputs": []
    },
    {
      "cell_type": "code",
      "metadata": {
        "id": "kZ3Ni2-W95YZ"
      },
      "source": [
        "sketch.list_available_aggregators()\n"
      ],
      "execution_count": null,
      "outputs": []
    },
    {
      "cell_type": "markdown",
      "metadata": {
        "id": "EAxAqu5o4fmq"
      },
      "source": [
        "# Ideas\n",
        "\n",
        "We could add VT queries for the IPs etc to the colab"
      ]
    }
  ]
}